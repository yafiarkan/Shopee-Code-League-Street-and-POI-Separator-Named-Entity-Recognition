{
  "nbformat": 4,
  "nbformat_minor": 0,
  "metadata": {
    "colab": {
      "name": "Train_POI.ipynb",
      "provenance": [],
      "collapsed_sections": []
    },
    "kernelspec": {
      "name": "python3",
      "display_name": "Python 3"
    }
  },
  "cells": [
    {
      "cell_type": "code",
      "metadata": {
        "id": "pSXiB1lX158p"
      },
      "source": [
        "#import import library\n",
        "import numpy as np\n",
        "import pandas as pd"
      ],
      "execution_count": null,
      "outputs": []
    },
    {
      "cell_type": "code",
      "metadata": {
        "colab": {
          "base_uri": "https://localhost:8080/"
        },
        "id": "bpj8T09AlwoZ",
        "outputId": "e52a706f-7590-4a7f-db32-c20b2a1b4da7"
      },
      "source": [
        "from google.colab import drive\n",
        "drive.mount('/content/gdrive')"
      ],
      "execution_count": null,
      "outputs": [
        {
          "output_type": "stream",
          "text": [
            "Mounted at /content/gdrive\n"
          ],
          "name": "stdout"
        }
      ]
    },
    {
      "cell_type": "code",
      "metadata": {
        "colab": {
          "base_uri": "https://localhost:8080/"
        },
        "id": "HoUzqNWUl5Gh",
        "outputId": "bcf75fe3-219f-49ec-f66f-932ce63e8e0b"
      },
      "source": [
        "#changing the working directory\n",
        "%cd /content/gdrive/My Drive/LOMBA"
      ],
      "execution_count": null,
      "outputs": [
        {
          "output_type": "stream",
          "text": [
            "/content/gdrive/My Drive/LOMBA\n"
          ],
          "name": "stdout"
        }
      ]
    },
    {
      "cell_type": "code",
      "metadata": {
        "colab": {
          "base_uri": "https://localhost:8080/",
          "height": 202
        },
        "id": "F1QcSLQQ2Vp9",
        "outputId": "2246bc3b-7128-4ac0-f8ac-d055d714190d"
      },
      "source": [
        "#import dataset\n",
        "df = pd.read_csv('dataset_poi.csv')\n",
        "df = df.drop(columns=\"Unnamed: 0\")\n",
        "df.head()"
      ],
      "execution_count": null,
      "outputs": [
        {
          "output_type": "execute_result",
          "data": {
            "text/html": [
              "<div>\n",
              "<style scoped>\n",
              "    .dataframe tbody tr th:only-of-type {\n",
              "        vertical-align: middle;\n",
              "    }\n",
              "\n",
              "    .dataframe tbody tr th {\n",
              "        vertical-align: top;\n",
              "    }\n",
              "\n",
              "    .dataframe thead th {\n",
              "        text-align: right;\n",
              "    }\n",
              "</style>\n",
              "<table border=\"1\" class=\"dataframe\">\n",
              "  <thead>\n",
              "    <tr style=\"text-align: right;\">\n",
              "      <th></th>\n",
              "      <th>Sentence</th>\n",
              "      <th>Word</th>\n",
              "      <th>Tag</th>\n",
              "    </tr>\n",
              "  </thead>\n",
              "  <tbody>\n",
              "    <tr>\n",
              "      <th>0</th>\n",
              "      <td>1</td>\n",
              "      <td>jl</td>\n",
              "      <td>O</td>\n",
              "    </tr>\n",
              "    <tr>\n",
              "      <th>1</th>\n",
              "      <td>1</td>\n",
              "      <td>kapuk</td>\n",
              "      <td>O</td>\n",
              "    </tr>\n",
              "    <tr>\n",
              "      <th>2</th>\n",
              "      <td>1</td>\n",
              "      <td>timur</td>\n",
              "      <td>O</td>\n",
              "    </tr>\n",
              "    <tr>\n",
              "      <th>3</th>\n",
              "      <td>1</td>\n",
              "      <td>delta</td>\n",
              "      <td>O</td>\n",
              "    </tr>\n",
              "    <tr>\n",
              "      <th>4</th>\n",
              "      <td>1</td>\n",
              "      <td>sili</td>\n",
              "      <td>O</td>\n",
              "    </tr>\n",
              "  </tbody>\n",
              "</table>\n",
              "</div>"
            ],
            "text/plain": [
              "   Sentence   Word Tag\n",
              "0         1     jl   O\n",
              "1         1  kapuk   O\n",
              "2         1  timur   O\n",
              "3         1  delta   O\n",
              "4         1   sili   O"
            ]
          },
          "metadata": {
            "tags": []
          },
          "execution_count": 6
        }
      ]
    },
    {
      "cell_type": "code",
      "metadata": {
        "colab": {
          "base_uri": "https://localhost:8080/"
        },
        "id": "ltIj3cJu2z8V",
        "outputId": "75173ae1-8fb5-4a7a-9ae1-733a08c4ce44"
      },
      "source": [
        "#Info dataset\n",
        "df.info()"
      ],
      "execution_count": null,
      "outputs": [
        {
          "output_type": "stream",
          "text": [
            "<class 'pandas.core.frame.DataFrame'>\n",
            "RangeIndex: 2360706 entries, 0 to 2360705\n",
            "Data columns (total 3 columns):\n",
            " #   Column    Dtype \n",
            "---  ------    ----- \n",
            " 0   Sentence  int64 \n",
            " 1   Word      object\n",
            " 2   Tag       object\n",
            "dtypes: int64(1), object(2)\n",
            "memory usage: 54.0+ MB\n"
          ],
          "name": "stdout"
        }
      ]
    },
    {
      "cell_type": "code",
      "metadata": {
        "id": "0RVvNrQF3JLR"
      },
      "source": [
        "class SentenceGetter(object):\n",
        "    \n",
        "    def __init__(self, dataset):\n",
        "        self.n_sent = 1\n",
        "        self.dataset = dataset\n",
        "        self.empty = False\n",
        "        agg_func = lambda s: [(w, t) for w,t in zip(s[\"Word\"].values.tolist(),\n",
        "                                                        s[\"Tag\"].values.tolist())]\n",
        "        self.grouped = self.dataset.groupby(\"Sentence\").apply(agg_func)\n",
        "        self.sentences = [s for s in self.grouped]\n",
        "    \n",
        "    def get_next(self):\n",
        "        try:\n",
        "            s = self.grouped[\"Sentence: {}\".format(self.n_sent)]\n",
        "            self.n_sent += 1\n",
        "            return s\n",
        "        except:\n",
        "            return None"
      ],
      "execution_count": null,
      "outputs": []
    },
    {
      "cell_type": "code",
      "metadata": {
        "id": "XV6YXRg23cbw"
      },
      "source": [
        "getter = SentenceGetter(df)\n",
        "sentences = getter.sentences"
      ],
      "execution_count": null,
      "outputs": []
    },
    {
      "cell_type": "code",
      "metadata": {
        "colab": {
          "base_uri": "https://localhost:8080/"
        },
        "id": "vsgxKFTD5kEh",
        "outputId": "d36f69a7-c83a-4112-93c3-cb9f06febf94"
      },
      "source": [
        "#mencari kalimat terpanjang dalam dataset\n",
        "maxlen = max([len(s) for s in sentences])\n",
        "print ('Maximum sequence length:', maxlen)"
      ],
      "execution_count": null,
      "outputs": [
        {
          "output_type": "stream",
          "text": [
            "Maximum sequence length: 36\n"
          ],
          "name": "stdout"
        }
      ]
    },
    {
      "cell_type": "code",
      "metadata": {
        "id": "hIVpD7LwpvYQ"
      },
      "source": [
        "df_dict = pd.read_csv('df_new_dict.csv')\n",
        "df_dict = df_dict.drop(columns=\"Unnamed: 0\")\n",
        "df_dict.iloc[0,0]=str(df_dict.iloc[0,0])"
      ],
      "execution_count": null,
      "outputs": []
    },
    {
      "cell_type": "code",
      "metadata": {
        "id": "-FNl-GAs54En"
      },
      "source": [
        "words = df_dict['Words'].values"
      ],
      "execution_count": null,
      "outputs": []
    },
    {
      "cell_type": "code",
      "metadata": {
        "colab": {
          "base_uri": "https://localhost:8080/",
          "height": 35
        },
        "id": "EmBCXbiBrpHI",
        "outputId": "eb07a86c-51d7-455a-eb5c-b5cdd8c68d9c"
      },
      "source": [
        "words[87406]"
      ],
      "execution_count": null,
      "outputs": [
        {
          "output_type": "execute_result",
          "data": {
            "application/vnd.google.colaboratory.intrinsic+json": {
              "type": "string"
            },
            "text/plain": [
              "'ENDPAD'"
            ]
          },
          "metadata": {
            "tags": []
          },
          "execution_count": 12
        }
      ]
    },
    {
      "cell_type": "code",
      "metadata": {
        "colab": {
          "base_uri": "https://localhost:8080/"
        },
        "id": "9kTBgQ9I5643",
        "outputId": "77d20bc4-8c58-44f0-8535-c32492d2a9fc"
      },
      "source": [
        "n_words = len(words); n_words"
      ],
      "execution_count": null,
      "outputs": [
        {
          "output_type": "execute_result",
          "data": {
            "text/plain": [
              "87407"
            ]
          },
          "metadata": {
            "tags": []
          },
          "execution_count": 13
        }
      ]
    },
    {
      "cell_type": "code",
      "metadata": {
        "id": "rk-YePYT57Xn"
      },
      "source": [
        "tags = list(set(df[\"Tag\"].values))"
      ],
      "execution_count": null,
      "outputs": []
    },
    {
      "cell_type": "code",
      "metadata": {
        "colab": {
          "base_uri": "https://localhost:8080/"
        },
        "id": "0tC5U3vn5-GQ",
        "outputId": "de966225-3f2c-4c7e-9a24-fd722b0dceb6"
      },
      "source": [
        "n_tags = len(tags); n_tags"
      ],
      "execution_count": null,
      "outputs": [
        {
          "output_type": "execute_result",
          "data": {
            "text/plain": [
              "3"
            ]
          },
          "metadata": {
            "tags": []
          },
          "execution_count": 15
        }
      ]
    },
    {
      "cell_type": "code",
      "metadata": {
        "id": "_G6orF8OrTNs"
      },
      "source": [
        "word_list = df_dict['Words'].values\n",
        "key_list = df_dict['Key'].values\n",
        "word2idx = dict(zip(word_list, key_list))"
      ],
      "execution_count": null,
      "outputs": []
    },
    {
      "cell_type": "code",
      "metadata": {
        "id": "tiyO7EfF5-ro"
      },
      "source": [
        "tag2idx ={'B-POI': 1, 'I-POI': 0, 'O': 2}"
      ],
      "execution_count": null,
      "outputs": []
    },
    {
      "cell_type": "code",
      "metadata": {
        "colab": {
          "base_uri": "https://localhost:8080/",
          "height": 35
        },
        "id": "2FysuWnBrjoa",
        "outputId": "0c004f64-e993-41ed-97df-6091e6223084"
      },
      "source": [
        "tags[2]"
      ],
      "execution_count": null,
      "outputs": [
        {
          "output_type": "execute_result",
          "data": {
            "application/vnd.google.colaboratory.intrinsic+json": {
              "type": "string"
            },
            "text/plain": [
              "'O'"
            ]
          },
          "metadata": {
            "tags": []
          },
          "execution_count": 22
        }
      ]
    },
    {
      "cell_type": "code",
      "metadata": {
        "colab": {
          "base_uri": "https://localhost:8080/"
        },
        "id": "lPMFrZvD6BXv",
        "outputId": "4f93c22a-840b-4cc2-d0b8-580bdc7a3c9b"
      },
      "source": [
        "from keras.preprocessing.sequence import pad_sequences\n",
        "X = [[word2idx[w[0]] for w in s] for s in sentences]\n",
        "print(X[0])"
      ],
      "execution_count": null,
      "outputs": [
        {
          "output_type": "stream",
          "text": [
            "[50845, 15652, 24998, 44692, 53189, 47101, 64955, 26060, 1310, 53476, 17121, 62043, 61479]\n"
          ],
          "name": "stdout"
        }
      ]
    },
    {
      "cell_type": "code",
      "metadata": {
        "colab": {
          "base_uri": "https://localhost:8080/"
        },
        "id": "acR1LMRD6gmw",
        "outputId": "89440eb4-37eb-4aa9-a072-eb362b791647"
      },
      "source": [
        "X = pad_sequences(maxlen=36, sequences=X, padding=\"post\",value=87406)\n",
        "print(X[0])"
      ],
      "execution_count": null,
      "outputs": [
        {
          "output_type": "stream",
          "text": [
            "[50845 15652 24998 44692 53189 47101 64955 26060  1310 53476 17121 62043\n",
            " 61479 87406 87406 87406 87406 87406 87406 87406 87406 87406 87406 87406\n",
            " 87406 87406 87406 87406 87406 87406 87406 87406 87406 87406 87406 87406]\n"
          ],
          "name": "stdout"
        }
      ]
    },
    {
      "cell_type": "code",
      "metadata": {
        "colab": {
          "base_uri": "https://localhost:8080/"
        },
        "id": "R77sKW3N6nm7",
        "outputId": "b9707c47-ab90-4d42-b519-a844ea74f5a8"
      },
      "source": [
        "y = [[tag2idx[w[1]] for w in s] for s in sentences]\n",
        "print(y[5])"
      ],
      "execution_count": null,
      "outputs": [
        {
          "output_type": "stream",
          "text": [
            "[2, 2, 2, 2, 2, 1, 0, 0]\n"
          ],
          "name": "stdout"
        }
      ]
    },
    {
      "cell_type": "code",
      "metadata": {
        "colab": {
          "base_uri": "https://localhost:8080/"
        },
        "id": "pmnMAcwa6p90",
        "outputId": "5616b2a2-8997-4c3c-beaf-44b9f223c2f6"
      },
      "source": [
        "y = pad_sequences(maxlen=36, sequences=y, padding=\"post\", value=tag2idx[\"O\"])\n",
        "print(y)"
      ],
      "execution_count": null,
      "outputs": [
        {
          "output_type": "stream",
          "text": [
            "[[2 2 2 ... 2 2 2]\n",
            " [2 2 2 ... 2 2 2]\n",
            " [2 2 2 ... 2 2 2]\n",
            " ...\n",
            " [2 2 2 ... 2 2 2]\n",
            " [2 2 2 ... 2 2 2]\n",
            " [1 0 0 ... 2 2 2]]\n"
          ],
          "name": "stdout"
        }
      ]
    },
    {
      "cell_type": "code",
      "metadata": {
        "colab": {
          "base_uri": "https://localhost:8080/"
        },
        "id": "HWmpnyJA6r90",
        "outputId": "4228f510-b6bd-4eb5-c28b-501818cf113f"
      },
      "source": [
        "from keras.utils import to_categorical\n",
        "y = [to_categorical(i, num_classes=n_tags) for i in y]\n",
        "print(y[0])"
      ],
      "execution_count": null,
      "outputs": [
        {
          "output_type": "stream",
          "text": [
            "[[0. 0. 1.]\n",
            " [0. 0. 1.]\n",
            " [0. 0. 1.]\n",
            " [0. 0. 1.]\n",
            " [0. 0. 1.]\n",
            " [0. 0. 1.]\n",
            " [0. 0. 1.]\n",
            " [0. 0. 1.]\n",
            " [0. 0. 1.]\n",
            " [0. 0. 1.]\n",
            " [0. 0. 1.]\n",
            " [0. 0. 1.]\n",
            " [0. 0. 1.]\n",
            " [0. 0. 1.]\n",
            " [0. 0. 1.]\n",
            " [0. 0. 1.]\n",
            " [0. 0. 1.]\n",
            " [0. 0. 1.]\n",
            " [0. 0. 1.]\n",
            " [0. 0. 1.]\n",
            " [0. 0. 1.]\n",
            " [0. 0. 1.]\n",
            " [0. 0. 1.]\n",
            " [0. 0. 1.]\n",
            " [0. 0. 1.]\n",
            " [0. 0. 1.]\n",
            " [0. 0. 1.]\n",
            " [0. 0. 1.]\n",
            " [0. 0. 1.]\n",
            " [0. 0. 1.]\n",
            " [0. 0. 1.]\n",
            " [0. 0. 1.]\n",
            " [0. 0. 1.]\n",
            " [0. 0. 1.]\n",
            " [0. 0. 1.]\n",
            " [0. 0. 1.]]\n"
          ],
          "name": "stdout"
        }
      ]
    },
    {
      "cell_type": "code",
      "metadata": {
        "id": "KG_FkAHS6vcz"
      },
      "source": [
        "from sklearn.model_selection import train_test_split\n",
        "X_train, X_test, y_train, y_test = train_test_split(X, y, test_size=0.2)"
      ],
      "execution_count": null,
      "outputs": []
    },
    {
      "cell_type": "code",
      "metadata": {
        "id": "oyFoR35_6xUD"
      },
      "source": [
        "from keras.models import Model, Input\n",
        "from keras.layers import LSTM, Embedding, Dense, TimeDistributed, Dropout, Bidirectional\n",
        "from keras.regularizers import l2\n",
        "from keras.callbacks import EarlyStopping\n",
        "from keras.callbacks import ModelCheckpoint\n",
        "es = EarlyStopping(monitor='val_loss', mode='min', verbose=1)\n",
        "mc = ModelCheckpoint('best_model_poi.h5', monitor='val_loss', mode='min', save_best_only=True)"
      ],
      "execution_count": null,
      "outputs": []
    },
    {
      "cell_type": "code",
      "metadata": {
        "id": "d72QOWAAtEgg"
      },
      "source": [
        "from keras.optimizers import Adam\n",
        "opt = Adam(learning_rate=0.01)"
      ],
      "execution_count": null,
      "outputs": []
    },
    {
      "cell_type": "code",
      "metadata": {
        "id": "oVgRW5x2s1mI"
      },
      "source": [
        "Y = np.array(y)"
      ],
      "execution_count": null,
      "outputs": []
    },
    {
      "cell_type": "code",
      "metadata": {
        "colab": {
          "base_uri": "https://localhost:8080/"
        },
        "id": "XkvmyBH6sVJq",
        "outputId": "85de1558-b6f7-4fc3-fcc3-d8c385dde676"
      },
      "source": [
        "from sklearn.model_selection import KFold\n",
        "seed = 7\n",
        "np.random.seed(seed)\n",
        "kfold = KFold(n_splits=5, shuffle=True, random_state=seed)\n",
        "cvscores = []\n",
        "test_loss = 1\n",
        "for train, test in kfold.split(X, Y):\n",
        "  # create model\n",
        "  input=Input(shape=(36,))\n",
        "  model=Embedding(input_dim=n_words, output_dim=36, input_length=36)(input)\n",
        "  model=Dropout(0.2)(model)\n",
        "  model=Bidirectional(LSTM(units=117, return_sequences=True, activity_regularizer=l2(0.01), recurrent_dropout=0.2))(model)\n",
        "  out=TimeDistributed(Dense(n_tags, activation=\"softmax\"))(model)\n",
        "  model=Model(input, out)\n",
        "\t# Compile model\n",
        "  model.compile(optimizer=opt, loss=\"categorical_crossentropy\", metrics=[\"accuracy\"])\n",
        "\t# Fit the model\n",
        "  model.fit(X[train], Y[train], batch_size=32, epochs=5, validation_split=0.2, verbose=1, callbacks=[mc,es])\n",
        "\t# evaluate the model\n",
        "  scores = model.evaluate(X[test], Y[test], verbose=1)\n",
        "  if test_loss>scores[0]:\n",
        "    test_loss=scores[0]\n",
        "    model.save_weights('best_model_cv_final_poi.h5')\n",
        "  print(\"%s: %.2f%%\" % (model.metrics_names[1], scores[1]*100))\n",
        "  cvscores.append(scores[1] * 100)\n",
        "print(\"%.2f%% (+/- %.2f%%)\" % (np.mean(cvscores), np.std(cvscores)))"
      ],
      "execution_count": null,
      "outputs": [
        {
          "output_type": "stream",
          "text": [
            "Epoch 1/5\n",
            "6000/6000 [==============================] - 1124s 187ms/step - loss: 0.0858 - accuracy: 0.9791 - val_loss: 0.0391 - val_accuracy: 0.9845\n",
            "Epoch 2/5\n",
            "6000/6000 [==============================] - 1140s 190ms/step - loss: 0.0335 - accuracy: 0.9876 - val_loss: 0.0377 - val_accuracy: 0.9849\n",
            "Epoch 3/5\n",
            "6000/6000 [==============================] - 1232s 205ms/step - loss: 0.0271 - accuracy: 0.9903 - val_loss: 0.0386 - val_accuracy: 0.9849\n",
            "Epoch 00003: early stopping\n",
            "1875/1875 [==============================] - 46s 25ms/step - loss: 0.0393 - accuracy: 0.9846\n",
            "accuracy: 98.46%\n",
            "Epoch 1/5\n",
            "6000/6000 [==============================] - 1275s 212ms/step - loss: 0.0769 - accuracy: 0.9782 - val_loss: 0.0402 - val_accuracy: 0.9839\n",
            "Epoch 2/5\n",
            "6000/6000 [==============================] - 1150s 192ms/step - loss: 0.0335 - accuracy: 0.9876 - val_loss: 0.0389 - val_accuracy: 0.9844\n",
            "Epoch 3/5\n",
            "6000/6000 [==============================] - 1148s 191ms/step - loss: 0.0276 - accuracy: 0.9900 - val_loss: 0.0392 - val_accuracy: 0.9845\n",
            "Epoch 00003: early stopping\n",
            "1875/1875 [==============================] - 39s 21ms/step - loss: 0.0391 - accuracy: 0.9845\n",
            "accuracy: 98.45%\n",
            "Epoch 1/5\n",
            "6000/6000 [==============================] - 1157s 192ms/step - loss: 0.0791 - accuracy: 0.9774 - val_loss: 0.0418 - val_accuracy: 0.9826\n",
            "Epoch 2/5\n",
            "6000/6000 [==============================] - 1159s 193ms/step - loss: 0.0344 - accuracy: 0.9873 - val_loss: 0.0395 - val_accuracy: 0.9841\n",
            "Epoch 3/5\n",
            "6000/6000 [==============================] - 1121s 187ms/step - loss: 0.0285 - accuracy: 0.9898 - val_loss: 0.0401 - val_accuracy: 0.9843\n",
            "Epoch 00003: early stopping\n",
            "1875/1875 [==============================] - 38s 20ms/step - loss: 0.0411 - accuracy: 0.9840\n",
            "accuracy: 98.40%\n",
            "Epoch 1/5\n",
            "6000/6000 [==============================] - 1117s 186ms/step - loss: 0.0955 - accuracy: 0.9765 - val_loss: 0.0409 - val_accuracy: 0.9840\n",
            "Epoch 2/5\n",
            "6000/6000 [==============================] - 1145s 191ms/step - loss: 0.0349 - accuracy: 0.9871 - val_loss: 0.0409 - val_accuracy: 0.9834\n",
            "Epoch 3/5\n",
            "6000/6000 [==============================] - 1138s 190ms/step - loss: 0.0285 - accuracy: 0.9897 - val_loss: 0.0402 - val_accuracy: 0.9843\n",
            "Epoch 4/5\n",
            "6000/6000 [==============================] - 1104s 184ms/step - loss: 0.0256 - accuracy: 0.9909 - val_loss: 0.0413 - val_accuracy: 0.9844\n",
            "Epoch 00004: early stopping\n",
            "1875/1875 [==============================] - 38s 20ms/step - loss: 0.0418 - accuracy: 0.9842\n",
            "accuracy: 98.42%\n",
            "Epoch 1/5\n",
            "6000/6000 [==============================] - 1090s 181ms/step - loss: 0.0807 - accuracy: 0.9769 - val_loss: 0.0401 - val_accuracy: 0.9843\n",
            "Epoch 2/5\n",
            "6000/6000 [==============================] - 1101s 183ms/step - loss: 0.0340 - accuracy: 0.9875 - val_loss: 0.0396 - val_accuracy: 0.9846\n",
            "Epoch 3/5\n",
            "6000/6000 [==============================] - 1107s 185ms/step - loss: 0.0281 - accuracy: 0.9899 - val_loss: 0.0393 - val_accuracy: 0.9845\n",
            "Epoch 4/5\n",
            "6000/6000 [==============================] - 1099s 183ms/step - loss: 0.0249 - accuracy: 0.9912 - val_loss: 0.0411 - val_accuracy: 0.9846\n",
            "Epoch 00004: early stopping\n",
            "1875/1875 [==============================] - 39s 21ms/step - loss: 0.0414 - accuracy: 0.9844\n",
            "accuracy: 98.44%\n",
            "98.43% (+/- 0.02%)\n"
          ],
          "name": "stdout"
        }
      ]
    },
    {
      "cell_type": "code",
      "metadata": {
        "id": "VfwRCmxJ6y00"
      },
      "source": [
        "input = Input(shape=(36,))\n",
        "model = Embedding(input_dim=n_words, output_dim=36, input_length=36)(input)\n",
        "model = Dropout(0.2)(model)\n",
        "model = Bidirectional(LSTM(units=117, return_sequences=True, activity_regularizer = l2(0.01), recurrent_dropout=0.2))(model)\n",
        "out = TimeDistributed(Dense(n_tags, activation=\"softmax\"))(model)  # softmax output layer"
      ],
      "execution_count": null,
      "outputs": []
    },
    {
      "cell_type": "code",
      "metadata": {
        "id": "gDkRr24_61hb"
      },
      "source": [
        "model = Model(input, out)"
      ],
      "execution_count": null,
      "outputs": []
    },
    {
      "cell_type": "code",
      "metadata": {
        "id": "9O4dRATW63Nc"
      },
      "source": [
        "model.compile(optimizer=opt, loss=\"categorical_crossentropy\", metrics=[\"accuracy\"])"
      ],
      "execution_count": null,
      "outputs": []
    },
    {
      "cell_type": "code",
      "metadata": {
        "colab": {
          "base_uri": "https://localhost:8080/"
        },
        "id": "CLLyFiVDNpFP",
        "outputId": "b96710f7-034f-4f93-b09a-c0439728feac"
      },
      "source": [
        "model.summary()"
      ],
      "execution_count": null,
      "outputs": [
        {
          "output_type": "stream",
          "text": [
            "Model: \"model\"\n",
            "_________________________________________________________________\n",
            "Layer (type)                 Output Shape              Param #   \n",
            "=================================================================\n",
            "input_1 (InputLayer)         [(None, 36)]              0         \n",
            "_________________________________________________________________\n",
            "embedding (Embedding)        (None, 36, 36)            3146652   \n",
            "_________________________________________________________________\n",
            "dropout (Dropout)            (None, 36, 36)            0         \n",
            "_________________________________________________________________\n",
            "bidirectional (Bidirectional (None, 36, 234)           144144    \n",
            "_________________________________________________________________\n",
            "time_distributed (TimeDistri (None, 36, 3)             705       \n",
            "=================================================================\n",
            "Total params: 3,291,501\n",
            "Trainable params: 3,291,501\n",
            "Non-trainable params: 0\n",
            "_________________________________________________________________\n"
          ],
          "name": "stdout"
        }
      ]
    },
    {
      "cell_type": "code",
      "metadata": {
        "colab": {
          "base_uri": "https://localhost:8080/"
        },
        "id": "TYhk3i4xOhLY",
        "outputId": "93d5d73f-5ea6-48da-b388-866e4ea94f45"
      },
      "source": [
        "print(words[87406])"
      ],
      "execution_count": null,
      "outputs": [
        {
          "output_type": "stream",
          "text": [
            "ENDPAD\n"
          ],
          "name": "stdout"
        }
      ]
    },
    {
      "cell_type": "code",
      "metadata": {
        "colab": {
          "base_uri": "https://localhost:8080/"
        },
        "id": "zu3Ihs5464jy",
        "outputId": "648a53b7-117e-47b0-cee3-cdc085e389d3"
      },
      "source": [
        "history = model.fit(X_train, np.array(y_train), batch_size=32, epochs=3, validation_split=0.2, verbose=1, callbacks=[es,mc])"
      ],
      "execution_count": null,
      "outputs": [
        {
          "output_type": "stream",
          "text": [
            "Epoch 1/3\n",
            "6000/6000 [==============================] - 574s 95ms/step - loss: 0.1577 - accuracy: 0.9782 - val_loss: 0.0453 - val_accuracy: 0.9842\n",
            "Epoch 2/3\n",
            "6000/6000 [==============================] - 568s 95ms/step - loss: 0.0347 - accuracy: 0.9889 - val_loss: 0.0393 - val_accuracy: 0.9850\n",
            "Epoch 3/3\n",
            "6000/6000 [==============================] - 573s 96ms/step - loss: 0.0227 - accuracy: 0.9927 - val_loss: 0.0412 - val_accuracy: 0.9846\n",
            "Epoch 00003: early stopping\n"
          ],
          "name": "stdout"
        }
      ]
    },
    {
      "cell_type": "code",
      "metadata": {
        "colab": {
          "base_uri": "https://localhost:8080/"
        },
        "id": "UPHG3ka1LNMm",
        "outputId": "16c07b83-9e0c-419c-e29b-43b7158e8ef9"
      },
      "source": [
        "model.evaluate(X_test,np.array(y_test))"
      ],
      "execution_count": null,
      "outputs": [
        {
          "output_type": "stream",
          "text": [
            "1875/1875 [==============================] - 32s 17ms/step - loss: 0.0405 - accuracy: 0.9848\n"
          ],
          "name": "stdout"
        },
        {
          "output_type": "execute_result",
          "data": {
            "text/plain": [
              "[0.04049307107925415, 0.9847740530967712]"
            ]
          },
          "metadata": {
            "tags": []
          },
          "execution_count": 41
        }
      ]
    },
    {
      "cell_type": "code",
      "metadata": {
        "id": "jUb0qhIy-kmi"
      },
      "source": [
        "model.load_weights('best_model_cv_final_poi.h5')"
      ],
      "execution_count": null,
      "outputs": []
    },
    {
      "cell_type": "code",
      "metadata": {
        "colab": {
          "base_uri": "https://localhost:8080/"
        },
        "id": "FqqBKQcD65yB",
        "outputId": "af8d785b-327d-438d-e4fd-afbd6ce2ddf8"
      },
      "source": [
        "from tqdm import tqdm\n",
        "\n",
        "pred_ = []\n",
        "true_ = []\n",
        "id_test = range(len(X_test))\n",
        "for i in tqdm(id_test):\n",
        "  p = model.predict(np.array([X_test[i]]))\n",
        "  p = np.argmax(p, axis=-1)\n",
        "  p_trans = np.transpose(p)\n",
        "  count = 0\n",
        "  for x in p_trans :\n",
        "    if x == tag2idx[\"I-POI\"] :\n",
        "      if p_trans[count-1] == tag2idx[\"O\"] :\n",
        "        p_trans[count-1] = tag2idx[\"B-POI\"]\n",
        "        count += 1\n",
        "      else :\n",
        "        count += 1\n",
        "    else :\n",
        "      count += 1\n",
        "    p_fin = np.transpose(p_trans)\n",
        "  q = np.array(y_test[i])\n",
        "  q = np.argmax(q, axis=-1)\n",
        "  pred_.append(p_fin[0])\n",
        "  true_.append(q)"
      ],
      "execution_count": null,
      "outputs": [
        {
          "output_type": "stream",
          "text": [
            "100%|██████████| 60000/60000 [51:08<00:00, 19.55it/s]\n"
          ],
          "name": "stderr"
        }
      ]
    },
    {
      "cell_type": "code",
      "metadata": {
        "id": "YQBJNPugWhnx"
      },
      "source": [
        "true_temp = np.array(true_)\n",
        "pred_temp = np.array(pred_)"
      ],
      "execution_count": null,
      "outputs": []
    },
    {
      "cell_type": "code",
      "metadata": {
        "id": "OzV8CMZbV5Ue",
        "colab": {
          "base_uri": "https://localhost:8080/"
        },
        "outputId": "2d08f3d2-163a-4364-fe7d-83b91e1c2a74"
      },
      "source": [
        "analyze = []\n",
        "true_score=[]\n",
        "dummy = 0\n",
        "for i in tqdm(id_test):\n",
        "  for j in range(0,36):\n",
        "    if true_temp[i,j]==pred_temp[i,j]:\n",
        "      dummy += 1\n",
        "    else :\n",
        "      analyze.append(0)\n",
        "      dummy = 0\n",
        "      break\n",
        "  if dummy == 36 :\n",
        "    analyze.append(1)\n",
        "    true_score.append(1)\n",
        "    dummy = 0\n",
        "  else :\n",
        "    dummy = 0\n",
        "\n",
        "\n",
        "print(\"acc : \",len(true_score)/len(id_test)*100,\"%\")"
      ],
      "execution_count": null,
      "outputs": [
        {
          "output_type": "stream",
          "text": [
            "100%|██████████| 60000/60000 [00:01<00:00, 50955.34it/s]"
          ],
          "name": "stderr"
        },
        {
          "output_type": "stream",
          "text": [
            "acc :  83.33166666666668 %\n"
          ],
          "name": "stdout"
        },
        {
          "output_type": "stream",
          "text": [
            "\n"
          ],
          "name": "stderr"
        }
      ]
    },
    {
      "cell_type": "code",
      "metadata": {
        "id": "ZvI2qhtZBiN0"
      },
      "source": [
        "ready_poi = []\n",
        "for i in tqdm(id_test):\n",
        "  ans = ''\n",
        "  for w,pred in zip(X_test[i],pred_[i]):\n",
        "    if tags[pred] == \"B-POI\":\n",
        "      ans = ans + str(words[w])\n",
        "    elif tags[pred] == \"I-POI\":\n",
        "      ans = ans + ' ' + str(words[w])\n",
        "    else:\n",
        "      ans = ans\n",
        "  ready_poi = np.append(ready_poi,ans)"
      ],
      "execution_count": null,
      "outputs": []
    },
    {
      "cell_type": "code",
      "metadata": {
        "colab": {
          "base_uri": "https://localhost:8080/"
        },
        "id": "kJiTOqev4aes",
        "outputId": "3c1aa95e-0f95-4c6b-f034-12effa9a3ae9"
      },
      "source": [
        "ready_poi[0:10]"
      ],
      "execution_count": null,
      "outputs": [
        {
          "output_type": "execute_result",
          "data": {
            "text/plain": [
              "array(['', 'lyga tas', '', '', '', '', '', '', '', ''], dtype='<U65')"
            ]
          },
          "metadata": {
            "tags": []
          },
          "execution_count": 46
        }
      ]
    },
    {
      "cell_type": "markdown",
      "metadata": {
        "id": "qtgFcgFaRJ4j"
      },
      "source": [
        "RUN THIS AFTER PREDICTING X_TEST"
      ]
    },
    {
      "cell_type": "code",
      "metadata": {
        "id": "_VfEY1ehRJFY"
      },
      "source": [
        "test = pd.read_csv(\"df_new.csv\")\n",
        "data_test = test.drop(['Unnamed: 0'],axis=1)"
      ],
      "execution_count": null,
      "outputs": []
    },
    {
      "cell_type": "code",
      "metadata": {
        "colab": {
          "base_uri": "https://localhost:8080/",
          "height": 662
        },
        "id": "YOnwCiOpJVnf",
        "outputId": "114d88a9-a228-463c-8669-493a4d01a89b"
      },
      "source": [
        "data_test.tail(20)"
      ],
      "execution_count": null,
      "outputs": [
        {
          "output_type": "execute_result",
          "data": {
            "text/html": [
              "<div>\n",
              "<style scoped>\n",
              "    .dataframe tbody tr th:only-of-type {\n",
              "        vertical-align: middle;\n",
              "    }\n",
              "\n",
              "    .dataframe tbody tr th {\n",
              "        vertical-align: top;\n",
              "    }\n",
              "\n",
              "    .dataframe thead th {\n",
              "        text-align: right;\n",
              "    }\n",
              "</style>\n",
              "<table border=\"1\" class=\"dataframe\">\n",
              "  <thead>\n",
              "    <tr style=\"text-align: right;\">\n",
              "      <th></th>\n",
              "      <th>Sentence</th>\n",
              "      <th>Word</th>\n",
              "    </tr>\n",
              "  </thead>\n",
              "  <tbody>\n",
              "    <tr>\n",
              "      <th>392687</th>\n",
              "      <td>49998</td>\n",
              "      <td>comma</td>\n",
              "    </tr>\n",
              "    <tr>\n",
              "      <th>392688</th>\n",
              "      <td>49998</td>\n",
              "      <td>nasio</td>\n",
              "    </tr>\n",
              "    <tr>\n",
              "      <th>392689</th>\n",
              "      <td>49998</td>\n",
              "      <td>comma</td>\n",
              "    </tr>\n",
              "    <tr>\n",
              "      <th>392690</th>\n",
              "      <td>49999</td>\n",
              "      <td>graha</td>\n",
              "    </tr>\n",
              "    <tr>\n",
              "      <th>392691</th>\n",
              "      <td>49999</td>\n",
              "      <td>indah</td>\n",
              "    </tr>\n",
              "    <tr>\n",
              "      <th>392692</th>\n",
              "      <td>49999</td>\n",
              "      <td>pamulang</td>\n",
              "    </tr>\n",
              "    <tr>\n",
              "      <th>392693</th>\n",
              "      <td>49999</td>\n",
              "      <td>jl</td>\n",
              "    </tr>\n",
              "    <tr>\n",
              "      <th>392694</th>\n",
              "      <td>49999</td>\n",
              "      <td>dot</td>\n",
              "    </tr>\n",
              "    <tr>\n",
              "      <th>392695</th>\n",
              "      <td>49999</td>\n",
              "      <td>mujair</td>\n",
              "    </tr>\n",
              "    <tr>\n",
              "      <th>392696</th>\n",
              "      <td>49999</td>\n",
              "      <td>raya</td>\n",
              "    </tr>\n",
              "    <tr>\n",
              "      <th>392697</th>\n",
              "      <td>49999</td>\n",
              "      <td>bambu</td>\n",
              "    </tr>\n",
              "    <tr>\n",
              "      <th>392698</th>\n",
              "      <td>49999</td>\n",
              "      <td>apus</td>\n",
              "    </tr>\n",
              "    <tr>\n",
              "      <th>392699</th>\n",
              "      <td>49999</td>\n",
              "      <td>blok</td>\n",
              "    </tr>\n",
              "    <tr>\n",
              "      <th>392700</th>\n",
              "      <td>49999</td>\n",
              "      <td>dot</td>\n",
              "    </tr>\n",
              "    <tr>\n",
              "      <th>392701</th>\n",
              "      <td>49999</td>\n",
              "      <td>b3</td>\n",
              "    </tr>\n",
              "    <tr>\n",
              "      <th>392702</th>\n",
              "      <td>49999</td>\n",
              "      <td>no</td>\n",
              "    </tr>\n",
              "    <tr>\n",
              "      <th>392703</th>\n",
              "      <td>49999</td>\n",
              "      <td>dot</td>\n",
              "    </tr>\n",
              "    <tr>\n",
              "      <th>392704</th>\n",
              "      <td>49999</td>\n",
              "      <td>11</td>\n",
              "    </tr>\n",
              "    <tr>\n",
              "      <th>392705</th>\n",
              "      <td>50000</td>\n",
              "      <td>adi</td>\n",
              "    </tr>\n",
              "    <tr>\n",
              "      <th>392706</th>\n",
              "      <td>50000</td>\n",
              "      <td>comma</td>\n",
              "    </tr>\n",
              "  </tbody>\n",
              "</table>\n",
              "</div>"
            ],
            "text/plain": [
              "        Sentence      Word\n",
              "392687     49998     comma\n",
              "392688     49998     nasio\n",
              "392689     49998     comma\n",
              "392690     49999     graha\n",
              "392691     49999     indah\n",
              "392692     49999  pamulang\n",
              "392693     49999        jl\n",
              "392694     49999       dot\n",
              "392695     49999    mujair\n",
              "392696     49999      raya\n",
              "392697     49999     bambu\n",
              "392698     49999      apus\n",
              "392699     49999      blok\n",
              "392700     49999       dot\n",
              "392701     49999        b3\n",
              "392702     49999        no\n",
              "392703     49999       dot\n",
              "392704     49999        11\n",
              "392705     50000       adi\n",
              "392706     50000     comma"
            ]
          },
          "metadata": {
            "tags": []
          },
          "execution_count": 64
        }
      ]
    },
    {
      "cell_type": "code",
      "metadata": {
        "id": "GAC4oMdTULjc"
      },
      "source": [
        "class SentenceGetter(object):\n",
        "    \n",
        "    def __init__(self, dataset):\n",
        "        self.n_sent = 1\n",
        "        self.dataset = dataset\n",
        "        self.empty = False\n",
        "        agg_func = lambda s: [(w) for w in zip(s[\"Word\"].values.tolist())]\n",
        "        self.grouped = self.dataset.groupby(\"Sentence\").apply(agg_func)\n",
        "        self.sentences = [s for s in self.grouped]\n",
        "    \n",
        "    def get_next(self):\n",
        "        try:\n",
        "            s = self.grouped[\"Sentence: {}\".format(self.n_sent)]\n",
        "            self.n_sent += 1\n",
        "            return s\n",
        "        except:\n",
        "            return None"
      ],
      "execution_count": null,
      "outputs": []
    },
    {
      "cell_type": "code",
      "metadata": {
        "id": "F92VgENCRoek"
      },
      "source": [
        "getter_test = SentenceGetter(data_test)\n",
        "sentences_test = getter_test.sentences"
      ],
      "execution_count": null,
      "outputs": []
    },
    {
      "cell_type": "code",
      "metadata": {
        "colab": {
          "base_uri": "https://localhost:8080/"
        },
        "id": "-JnrUjy1RsGD",
        "outputId": "4c7bc931-5d58-4bbe-e295-390686e562bf"
      },
      "source": [
        "X_fintest = [[word2idx[w[0]] for w in s] for s in sentences_test]\n",
        "X_fintest = pad_sequences(maxlen=36, sequences=X_fintest, padding=\"post\",value=87406)\n",
        "print(X_fintest[0])"
      ],
      "execution_count": null,
      "outputs": [
        {
          "output_type": "stream",
          "text": [
            "[73351 16517 26887 24589 33464 30505 77919 43143 87406 87406 87406 87406\n",
            " 87406 87406 87406 87406 87406 87406 87406 87406 87406 87406 87406 87406\n",
            " 87406 87406 87406 87406 87406 87406 87406 87406 87406 87406 87406 87406]\n"
          ],
          "name": "stdout"
        }
      ]
    },
    {
      "cell_type": "code",
      "metadata": {
        "id": "xAbJZ4juSLWk"
      },
      "source": [
        "from tqdm import tqdm\n",
        "\n",
        "pred_ = []\n",
        "true_ = []\n",
        "id_test = range(len(X_fintest))\n",
        "for i in tqdm(id_test):\n",
        "  p = model.predict(np.array([X_fintest[i]]))\n",
        "  p = np.argmax(p, axis=-1)\n",
        "  p_trans = np.transpose(p)\n",
        "  count = 0\n",
        "  for x in p_trans :\n",
        "    if x == tag2idx[\"I-POI\"] :\n",
        "      if p_trans[count-1] == tag2idx[\"O\"] :\n",
        "        p_trans[count-1] = tag2idx[\"B-POI\"]\n",
        "        count += 1\n",
        "      else :\n",
        "        count += 1\n",
        "    else :\n",
        "      count += 1\n",
        "    p_fin = np.transpose(p_trans)\n",
        "  pred_.append(p_fin[0])"
      ],
      "execution_count": null,
      "outputs": []
    },
    {
      "cell_type": "code",
      "metadata": {
        "id": "nmk_hpv-qGQ4",
        "colab": {
          "base_uri": "https://localhost:8080/"
        },
        "outputId": "12ad0ab6-41c1-4228-d83a-841e6f40e281"
      },
      "source": [
        "pred_[6]"
      ],
      "execution_count": null,
      "outputs": [
        {
          "output_type": "execute_result",
          "data": {
            "text/plain": [
              "array([2, 2, 2, 2, 2, 2, 2, 2, 2, 2, 2, 2, 2, 2, 2, 2, 2, 2, 2, 2, 2, 2,\n",
              "       2, 2, 2, 2, 2, 2, 2, 2, 2, 2, 2, 2, 2, 2])"
            ]
          },
          "metadata": {
            "tags": []
          },
          "execution_count": 113
        }
      ]
    },
    {
      "cell_type": "code",
      "metadata": {
        "id": "dqxPTumKbGar",
        "colab": {
          "base_uri": "https://localhost:8080/"
        },
        "outputId": "29cf54c0-9bd8-4989-d8f5-b03efa80c759"
      },
      "source": [
        "print(\"{:14} ({:5}): {}\".format(\"Word\", \"True\", \"Pred\"))\n",
        "for w,pred in zip(X_fintest[11],pred_[11]):\n",
        "    print(\"{:14}: {}\".format(words[w],tags[pred]))"
      ],
      "execution_count": null,
      "outputs": [
        {
          "output_type": "stream",
          "text": [
            "Word           (True ): Pred\n",
            "kemur         : O\n",
            "vii           : O\n",
            "comma         : O\n",
            "no            : O\n",
            "95            : O\n",
            "glodok        : O\n",
            "rt            : O\n",
            "5             : O\n",
            "rw            : O\n",
            "5             : O\n",
            "taman         : O\n",
            "sari          : O\n",
            "ENDPAD        : O\n",
            "ENDPAD        : O\n",
            "ENDPAD        : O\n",
            "ENDPAD        : O\n",
            "ENDPAD        : O\n",
            "ENDPAD        : O\n",
            "ENDPAD        : O\n",
            "ENDPAD        : O\n",
            "ENDPAD        : O\n",
            "ENDPAD        : O\n",
            "ENDPAD        : O\n",
            "ENDPAD        : O\n",
            "ENDPAD        : O\n",
            "ENDPAD        : O\n",
            "ENDPAD        : O\n",
            "ENDPAD        : O\n",
            "ENDPAD        : O\n",
            "ENDPAD        : O\n",
            "ENDPAD        : O\n",
            "ENDPAD        : O\n",
            "ENDPAD        : O\n",
            "ENDPAD        : O\n",
            "ENDPAD        : O\n",
            "ENDPAD        : O\n"
          ],
          "name": "stdout"
        }
      ]
    },
    {
      "cell_type": "code",
      "metadata": {
        "id": "LRS3KhN4MXMz"
      },
      "source": [
        "poi_pred_final=[]\n",
        "for i in words:\n",
        "  word_=str(i).replace(\" dot \",\". \")\n",
        "  word_=word_.replace(\" dot\",\"\")\n",
        "  word_=word_.replace(\"dot \",\"\")\n",
        "  word_=word_.replace(\" comma \",\", \")\n",
        "  word_=word_.replace(\"comma \",\"\")\n",
        "  word_=word_.replace(\" comma\",\"\")\n",
        "  poi_pred_final.append(word_)"
      ],
      "execution_count": null,
      "outputs": []
    },
    {
      "cell_type": "code",
      "metadata": {
        "id": "oxlGVQpYStZl"
      },
      "source": [
        "ready_poi = []\n",
        "for i in tqdm(id_test):\n",
        "  ans = ''\n",
        "  for w,pred in zip(X_fintest[i],pred_[i]):\n",
        "    if tags[pred] == \"B-POI\":\n",
        "      ans = ans + str(poi_pred_final[w]) + ' '\n",
        "    elif tags[pred] == \"I-POI\":\n",
        "      ans = ans + str(poi_pred_final[w]) + ' '\n",
        "    else:\n",
        "      ans = ans\n",
        "  if ans!=\"\":\n",
        "    ready_poi = np.append(ready_poi,ans[:-1])\n",
        "  else:\n",
        "    ready_poi = np.append(ready_poi,ans)"
      ],
      "execution_count": null,
      "outputs": []
    },
    {
      "cell_type": "code",
      "metadata": {
        "colab": {
          "base_uri": "https://localhost:8080/"
        },
        "id": "ruM8KFAQJFfk",
        "outputId": "3d6bb1e8-13bf-4125-8d97-a5bca44bf39c"
      },
      "source": [
        "ready_poi[-100:]"
      ],
      "execution_count": null,
      "outputs": [
        {
          "output_type": "execute_result",
          "data": {
            "text/plain": [
              "array(['', '', '', 'kedai kopi nusantar', 'ketua', '', '', '', '',\n",
              "       'bumi moro', 'perumahan griya kencana', '', '', '', '',\n",
              "       'kp dot tanah ungkuk', 'depot bu deon', 'bakso cak hasan madci',\n",
              "       '', '', '', '', '', '', '', '', 'lapangan kopen', '', '', '',\n",
              "       'perumahan tni al griya samudra asri', '', 'sd neg 022ii lempur',\n",
              "       '', 'surya cell', '', 'krenchise fried', '', '', '', '', '',\n",
              "       'ud untung', '', '', 'bursa sec komp', '', '', '',\n",
              "       'pp dot raudatul ulum2 comma cume', 'apt kf pepito canggu', '', '',\n",
              "       '', '', 'gedung ot', '', '', '', '', '', 'cpp merauke', 'an nur',\n",
              "       '', '', '', 'optik qu', 'asrama mahasiswa its', '', 'king s gym',\n",
              "       '', 'ratna mini mart', 'mi swasta kasih bunda', '', '', '', '', '',\n",
              "       '', 'toko mona', '', '', 'warmindo taman ringin', '', '', '',\n",
              "       'komplek mega com', 'toko', '', '', '', '', '', '', '',\n",
              "       'toko mbak farid', 'tk dot ridho kids',\n",
              "       'mart dan roti bakar malabar', 'graha indah pamulang', ''],\n",
              "      dtype='<U64')"
            ]
          },
          "metadata": {
            "tags": []
          },
          "execution_count": 119
        }
      ]
    },
    {
      "cell_type": "code",
      "metadata": {
        "id": "z_Ci1_6QPOV-"
      },
      "source": [
        "poi_pred_final=[]\n",
        "for i in ready_poi:\n",
        "  word_=i.replace(\" dot \",\". \")\n",
        "  word_=word_.replace(\" dot\",\". \")\n",
        "  word_=word_.replace(\"dot \",\". \")\n",
        "  word_=word_.replace(\" comma \",\", \")\n",
        "  word_=word_.replace(\"comma \",\"\")\n",
        "  word_=word_.replace(\" comma\",\"\")\n",
        "  poi_pred_final.append(word_)"
      ],
      "execution_count": null,
      "outputs": []
    },
    {
      "cell_type": "code",
      "metadata": {
        "id": "s2zocIBAcISw"
      },
      "source": [
        "poi_df = pd.DataFrame(poi_pred_final, columns = ['POI'])"
      ],
      "execution_count": null,
      "outputs": []
    },
    {
      "cell_type": "code",
      "metadata": {
        "colab": {
          "base_uri": "https://localhost:8080/",
          "height": 662
        },
        "id": "UIp5B3x9ceBf",
        "outputId": "46e9bdb0-dc20-4723-a159-8645bff217c9"
      },
      "source": [
        "poi_df.head(20)"
      ],
      "execution_count": null,
      "outputs": [
        {
          "output_type": "execute_result",
          "data": {
            "text/html": [
              "<div>\n",
              "<style scoped>\n",
              "    .dataframe tbody tr th:only-of-type {\n",
              "        vertical-align: middle;\n",
              "    }\n",
              "\n",
              "    .dataframe tbody tr th {\n",
              "        vertical-align: top;\n",
              "    }\n",
              "\n",
              "    .dataframe thead th {\n",
              "        text-align: right;\n",
              "    }\n",
              "</style>\n",
              "<table border=\"1\" class=\"dataframe\">\n",
              "  <thead>\n",
              "    <tr style=\"text-align: right;\">\n",
              "      <th></th>\n",
              "      <th>POI</th>\n",
              "    </tr>\n",
              "  </thead>\n",
              "  <tbody>\n",
              "    <tr>\n",
              "      <th>0</th>\n",
              "      <td></td>\n",
              "    </tr>\n",
              "    <tr>\n",
              "      <th>1</th>\n",
              "      <td></td>\n",
              "    </tr>\n",
              "    <tr>\n",
              "      <th>2</th>\n",
              "      <td>asma laun</td>\n",
              "    </tr>\n",
              "    <tr>\n",
              "      <th>3</th>\n",
              "      <td>ud agung</td>\n",
              "    </tr>\n",
              "    <tr>\n",
              "      <th>4</th>\n",
              "      <td></td>\n",
              "    </tr>\n",
              "    <tr>\n",
              "      <th>5</th>\n",
              "      <td></td>\n",
              "    </tr>\n",
              "    <tr>\n",
              "      <th>6</th>\n",
              "      <td></td>\n",
              "    </tr>\n",
              "    <tr>\n",
              "      <th>7</th>\n",
              "      <td></td>\n",
              "    </tr>\n",
              "    <tr>\n",
              "      <th>8</th>\n",
              "      <td>tk pam</td>\n",
              "    </tr>\n",
              "    <tr>\n",
              "      <th>9</th>\n",
              "      <td></td>\n",
              "    </tr>\n",
              "    <tr>\n",
              "      <th>10</th>\n",
              "      <td></td>\n",
              "    </tr>\n",
              "    <tr>\n",
              "      <th>11</th>\n",
              "      <td></td>\n",
              "    </tr>\n",
              "    <tr>\n",
              "      <th>12</th>\n",
              "      <td>kimia farma</td>\n",
              "    </tr>\n",
              "    <tr>\n",
              "      <th>13</th>\n",
              "      <td></td>\n",
              "    </tr>\n",
              "    <tr>\n",
              "      <th>14</th>\n",
              "      <td>toko teddy</td>\n",
              "    </tr>\n",
              "    <tr>\n",
              "      <th>15</th>\n",
              "      <td>slb bina ban</td>\n",
              "    </tr>\n",
              "    <tr>\n",
              "      <th>16</th>\n",
              "      <td>dimas laun</td>\n",
              "    </tr>\n",
              "    <tr>\n",
              "      <th>17</th>\n",
              "      <td>waroeng baro</td>\n",
              "    </tr>\n",
              "    <tr>\n",
              "      <th>18</th>\n",
              "      <td></td>\n",
              "    </tr>\n",
              "    <tr>\n",
              "      <th>19</th>\n",
              "      <td>dens foto</td>\n",
              "    </tr>\n",
              "  </tbody>\n",
              "</table>\n",
              "</div>"
            ],
            "text/plain": [
              "             POI\n",
              "0               \n",
              "1               \n",
              "2      asma laun\n",
              "3       ud agung\n",
              "4               \n",
              "5               \n",
              "6               \n",
              "7               \n",
              "8         tk pam\n",
              "9               \n",
              "10              \n",
              "11              \n",
              "12   kimia farma\n",
              "13              \n",
              "14    toko teddy\n",
              "15  slb bina ban\n",
              "16    dimas laun\n",
              "17  waroeng baro\n",
              "18              \n",
              "19     dens foto"
            ]
          },
          "metadata": {
            "tags": []
          },
          "execution_count": 122
        }
      ]
    },
    {
      "cell_type": "markdown",
      "metadata": {
        "id": "4v9QVEqpmOtm"
      },
      "source": [
        "##PERBAIKAN"
      ]
    },
    {
      "cell_type": "code",
      "metadata": {
        "id": "b7boveqCcwtz"
      },
      "source": [
        "poi_df.to_csv('poi_test_1.csv')"
      ],
      "execution_count": null,
      "outputs": []
    },
    {
      "cell_type": "code",
      "metadata": {
        "id": "WOCryZ5TMvAr"
      },
      "source": [
        "df_test = pd.read_csv('test.csv')"
      ],
      "execution_count": null,
      "outputs": []
    },
    {
      "cell_type": "code",
      "metadata": {
        "id": "BRE0x3fsMNgo"
      },
      "source": [
        "false_alarm=[]\n",
        "poi_word=[]\n",
        "idx=[]\n",
        "for i in range(len(poi_df)):\n",
        "  if poi_df.iloc[i,0]!=\"\":\n",
        "    if poi_df.iloc[i,0] not in df_test.iloc[i,1]:\n",
        "      idx.append(i)\n",
        "      false_alarm.append(poi_df.iloc[i,0])\n",
        "      poi_word.append(df_test.iloc[i,1])"
      ],
      "execution_count": null,
      "outputs": []
    },
    {
      "cell_type": "code",
      "metadata": {
        "colab": {
          "base_uri": "https://localhost:8080/"
        },
        "id": "CTxJTNCvNHZR",
        "outputId": "83db3a1b-4060-4b11-fb52-f197484bd3e9"
      },
      "source": [
        "len(false_alarm)"
      ],
      "execution_count": null,
      "outputs": [
        {
          "output_type": "execute_result",
          "data": {
            "text/plain": [
              "53"
            ]
          },
          "metadata": {
            "tags": []
          },
          "execution_count": 230
        }
      ]
    },
    {
      "cell_type": "code",
      "metadata": {
        "colab": {
          "base_uri": "https://localhost:8080/"
        },
        "id": "JkVoJ16eODJH",
        "outputId": "a122fb40-866a-4ccc-f613-453bb92b16fa"
      },
      "source": [
        "i = 17\n",
        "print(false_alarm[i],\"--\",poi_word[i])"
      ],
      "execution_count": null,
      "outputs": [
        {
          "output_type": "stream",
          "text": [
            "dipo tower dipo tower -- jl gatot subroto kv 50-52 dipo tower loby receptionist loby utama dipo tower\n"
          ],
          "name": "stdout"
        }
      ]
    },
    {
      "cell_type": "code",
      "metadata": {
        "id": "MFLpn3jYZEsj"
      },
      "source": [
        "!pip install fuzzywuzzy\n",
        "!pip install python-Levenshtein"
      ],
      "execution_count": null,
      "outputs": []
    },
    {
      "cell_type": "code",
      "metadata": {
        "id": "VisFXXMPYeaa"
      },
      "source": [
        "from fuzzywuzzy import fuzz\n",
        "#string1 raw string 2 poi/street\n",
        "def find_keyword(string1,string2):\n",
        "  keyword = \"\"\n",
        "  string1 = string1.split()\n",
        "  for i in string1:\n",
        "    if i!='' and fuzz.ratio(i,string2) >= 70 and len(keyword.split())<len(string2.split()):\n",
        "      keyword+=i+\" \"\n",
        "  return(keyword[:-1])"
      ],
      "execution_count": null,
      "outputs": []
    },
    {
      "cell_type": "code",
      "metadata": {
        "colab": {
          "base_uri": "https://localhost:8080/"
        },
        "id": "s8RjyZTaanj7",
        "outputId": "66995091-be80-4e8f-aa80-0123acaa022a"
      },
      "source": [
        "false_alarm[101:111]"
      ],
      "execution_count": null,
      "outputs": [
        {
          "output_type": "execute_result",
          "data": {
            "text/plain": [
              "['dusun iwan masjid darul hamidy',\n",
              " 'wisma sepak bola eks',\n",
              " 'pb bumi agung batu alam',\n",
              " 'sds adv cira',\n",
              " 'pijat tunanetra pak rohim nh. nad',\n",
              " 'pt. mega prima persada',\n",
              " 'mas al kautsar',\n",
              " 'anugrah jaya motor warung muncang',\n",
              " 'tk bunga tpu utan jati',\n",
              " 'jakarta design center slipi petamburan']"
            ]
          },
          "metadata": {
            "tags": []
          },
          "execution_count": 187
        }
      ]
    },
    {
      "cell_type": "code",
      "metadata": {
        "id": "vBV5zNdjZLXp"
      },
      "source": [
        "true_poi=[]\n",
        "for i,j in zip(false_alarm,poi_word):\n",
        "  start_i=i.split()[0]\n",
        "  end_i=i.split()[-1]\n",
        "  #print(end_i,\"----\")\n",
        "  poi_w = j.split()\n",
        "  start_con=False\n",
        "  poi_w_=\"\"\n",
        "  for k in poi_w:\n",
        "    if find_keyword(k,start_i)==k:\n",
        "      start_con=True\n",
        "    if start_con:\n",
        "      poi_w_+=k+' '\n",
        "    if find_keyword(k,end_i)==k:\n",
        "      start_con=False\n",
        "  true_poi.append(poi_w_[:-1])"
      ],
      "execution_count": null,
      "outputs": []
    },
    {
      "cell_type": "code",
      "metadata": {
        "colab": {
          "base_uri": "https://localhost:8080/"
        },
        "id": "OOjrJAhQaKc7",
        "outputId": "f345a18a-c92a-4bc7-d123-ff2a30fca8a6"
      },
      "source": [
        "true_poi[0:10]"
      ],
      "execution_count": null,
      "outputs": [
        {
          "output_type": "execute_result",
          "data": {
            "text/plain": [
              "['warung kuning dekat basecamp gunung andong via',\n",
              " 'sisun kel.,',\n",
              " 'balilaris pie susu & lapis legit by',\n",
              " 'karang sari kpri makmur',\n",
              " 'masjid al-muttaqin',\n",
              " 'konter data cell ) komplek puri citra',\n",
              " 'pizza & burger,',\n",
              " \"kiv baby 'n kids shop,\",\n",
              " '',\n",
              " 'smps plus as-sa adah']"
            ]
          },
          "metadata": {
            "tags": []
          },
          "execution_count": 217
        }
      ]
    },
    {
      "cell_type": "code",
      "metadata": {
        "colab": {
          "base_uri": "https://localhost:8080/"
        },
        "id": "TORFTFbhcZht",
        "outputId": "7bee31c3-ee38-4686-ad83-45148eb65024"
      },
      "source": [
        "idx[0:10]"
      ],
      "execution_count": null,
      "outputs": [
        {
          "output_type": "execute_result",
          "data": {
            "text/plain": [
              "[1130, 2189, 3018, 3370, 4067, 4384, 4513, 5686, 7757, 12414]"
            ]
          },
          "metadata": {
            "tags": []
          },
          "execution_count": 232
        }
      ]
    },
    {
      "cell_type": "code",
      "metadata": {
        "id": "8W5LCV1sk2S_"
      },
      "source": [
        "poi_df.iloc[idx,0]=true_poi"
      ],
      "execution_count": null,
      "outputs": []
    },
    {
      "cell_type": "code",
      "metadata": {
        "colab": {
          "base_uri": "https://localhost:8080/"
        },
        "id": "zgphfJ4ak-Gj",
        "outputId": "fd674f21-a52c-4b66-8a25-a07aa0deff76"
      },
      "source": [
        "poi_df.iloc[idx,0]"
      ],
      "execution_count": null,
      "outputs": [
        {
          "output_type": "execute_result",
          "data": {
            "text/plain": [
              "135      warung kuning dekat basecamp gunung andong via\n",
              "143                                         sisun kel.,\n",
              "169                 balilaris pie susu & lapis legit by\n",
              "189                             karang sari kpri makmur\n",
              "219                                  masjid al-muttaqin\n",
              "                              ...                      \n",
              "49837                    maje ta'lim nuhda al - mansyu,\n",
              "49889                      madrasah tsanaw negeri sale,\n",
              "49932                              sd neg 022iii lempur\n",
              "49949                                                  \n",
              "49969                                       king's gym,\n",
              "Name: POI, Length: 1034, dtype: object"
            ]
          },
          "metadata": {
            "tags": []
          },
          "execution_count": 224
        }
      ]
    },
    {
      "cell_type": "code",
      "metadata": {
        "id": "O52TXrzxlV4U"
      },
      "source": [
        "poi_df.to_csv('poi_test_2.csv')"
      ],
      "execution_count": null,
      "outputs": []
    },
    {
      "cell_type": "code",
      "metadata": {
        "colab": {
          "base_uri": "https://localhost:8080/"
        },
        "id": "csiO4v6mldSq",
        "outputId": "e2dafa9d-47a8-4172-b5dc-07566dd26ffb"
      },
      "source": [
        "!cp 'poi_test.csv' \"/content/gdrive/My Drive/LOMBA\""
      ],
      "execution_count": null,
      "outputs": [
        {
          "output_type": "stream",
          "text": [
            "cp: 'poi_test.csv' and '/content/gdrive/My Drive/LOMBA/poi_test.csv' are the same file\n"
          ],
          "name": "stdout"
        }
      ]
    },
    {
      "cell_type": "code",
      "metadata": {
        "id": "Y1YUg9MWlsVF"
      },
      "source": [
        ""
      ],
      "execution_count": null,
      "outputs": []
    }
  ]
}