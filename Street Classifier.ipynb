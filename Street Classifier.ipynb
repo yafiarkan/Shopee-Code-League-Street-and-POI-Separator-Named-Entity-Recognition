{
  "nbformat": 4,
  "nbformat_minor": 0,
  "metadata": {
    "colab": {
      "name": "Train_Street.ipynb",
      "provenance": [],
      "collapsed_sections": []
    },
    "kernelspec": {
      "name": "python3",
      "display_name": "Python 3"
    },
    "language_info": {
      "name": "python"
    }
  },
  "cells": [
    {
      "cell_type": "code",
      "metadata": {
        "id": "pSXiB1lX158p"
      },
      "source": [
        "#import import library\n",
        "import numpy as np\n",
        "import pandas as pd"
      ],
      "execution_count": null,
      "outputs": []
    },
    {
      "cell_type": "code",
      "metadata": {
        "colab": {
          "base_uri": "https://localhost:8080/"
        },
        "id": "PvXojr0fwjVM",
        "outputId": "c01aa31e-7bf8-472a-e88c-7a01291d9ac2"
      },
      "source": [
        "from google.colab import drive\n",
        "drive.mount('/content/gdrive')"
      ],
      "execution_count": null,
      "outputs": [
        {
          "output_type": "stream",
          "text": [
            "Mounted at /content/gdrive\n"
          ],
          "name": "stdout"
        }
      ]
    },
    {
      "cell_type": "code",
      "metadata": {
        "colab": {
          "base_uri": "https://localhost:8080/"
        },
        "id": "f-CeRIcWLYfx",
        "outputId": "2f4517da-d9bf-45af-d5c5-a240888ac846"
      },
      "source": [
        "#changing the working directory\n",
        "%cd /content/gdrive/My Drive/LOMBA"
      ],
      "execution_count": null,
      "outputs": [
        {
          "output_type": "stream",
          "text": [
            "/content/gdrive/My Drive/LOMBA\n"
          ],
          "name": "stdout"
        }
      ]
    },
    {
      "cell_type": "code",
      "metadata": {
        "colab": {
          "base_uri": "https://localhost:8080/",
          "height": 202
        },
        "id": "F1QcSLQQ2Vp9",
        "outputId": "b57c618f-3a95-42f5-fe2b-9f8fd008087e"
      },
      "source": [
        "#import dataset\n",
        "#import dataset\n",
        "df = pd.read_csv('dataset_street.csv')\n",
        "df = df.drop(columns=\"Unnamed: 0\")\n",
        "df.head()"
      ],
      "execution_count": null,
      "outputs": [
        {
          "output_type": "execute_result",
          "data": {
            "text/html": [
              "<div>\n",
              "<style scoped>\n",
              "    .dataframe tbody tr th:only-of-type {\n",
              "        vertical-align: middle;\n",
              "    }\n",
              "\n",
              "    .dataframe tbody tr th {\n",
              "        vertical-align: top;\n",
              "    }\n",
              "\n",
              "    .dataframe thead th {\n",
              "        text-align: right;\n",
              "    }\n",
              "</style>\n",
              "<table border=\"1\" class=\"dataframe\">\n",
              "  <thead>\n",
              "    <tr style=\"text-align: right;\">\n",
              "      <th></th>\n",
              "      <th>Sentence</th>\n",
              "      <th>Word</th>\n",
              "      <th>Tag</th>\n",
              "    </tr>\n",
              "  </thead>\n",
              "  <tbody>\n",
              "    <tr>\n",
              "      <th>0</th>\n",
              "      <td>1</td>\n",
              "      <td>jl</td>\n",
              "      <td>B-STR</td>\n",
              "    </tr>\n",
              "    <tr>\n",
              "      <th>1</th>\n",
              "      <td>1</td>\n",
              "      <td>kapuk</td>\n",
              "      <td>I-STR</td>\n",
              "    </tr>\n",
              "    <tr>\n",
              "      <th>2</th>\n",
              "      <td>1</td>\n",
              "      <td>timur</td>\n",
              "      <td>I-STR</td>\n",
              "    </tr>\n",
              "    <tr>\n",
              "      <th>3</th>\n",
              "      <td>1</td>\n",
              "      <td>delta</td>\n",
              "      <td>I-STR</td>\n",
              "    </tr>\n",
              "    <tr>\n",
              "      <th>4</th>\n",
              "      <td>1</td>\n",
              "      <td>sili</td>\n",
              "      <td>I-STR</td>\n",
              "    </tr>\n",
              "  </tbody>\n",
              "</table>\n",
              "</div>"
            ],
            "text/plain": [
              "   Sentence   Word    Tag\n",
              "0         1     jl  B-STR\n",
              "1         1  kapuk  I-STR\n",
              "2         1  timur  I-STR\n",
              "3         1  delta  I-STR\n",
              "4         1   sili  I-STR"
            ]
          },
          "metadata": {
            "tags": []
          },
          "execution_count": 6
        }
      ]
    },
    {
      "cell_type": "code",
      "metadata": {
        "colab": {
          "base_uri": "https://localhost:8080/"
        },
        "id": "ltIj3cJu2z8V",
        "outputId": "75c2a10f-578d-4359-c822-4368e453a9ed"
      },
      "source": [
        "#Info dataset\n",
        "dataset.info()"
      ],
      "execution_count": null,
      "outputs": [
        {
          "output_type": "stream",
          "text": [
            "<class 'pandas.core.frame.DataFrame'>\n",
            "RangeIndex: 2360706 entries, 0 to 2360705\n",
            "Data columns (total 3 columns):\n",
            " #   Column    Dtype \n",
            "---  ------    ----- \n",
            " 0   Sentence  int64 \n",
            " 1   Word      object\n",
            " 2   Tag       object\n",
            "dtypes: int64(1), object(2)\n",
            "memory usage: 54.0+ MB\n"
          ],
          "name": "stdout"
        }
      ]
    },
    {
      "cell_type": "code",
      "metadata": {
        "id": "0RVvNrQF3JLR"
      },
      "source": [
        "class SentenceGetter(object):\n",
        "    \n",
        "    def __init__(self, dataset):\n",
        "        self.n_sent = 1\n",
        "        self.dataset = dataset\n",
        "        self.empty = False\n",
        "        agg_func = lambda s: [(w, t) for w,t in zip(s[\"Word\"].values.tolist(),\n",
        "                                                        s[\"Tag\"].values.tolist())]\n",
        "        self.grouped = self.dataset.groupby(\"Sentence\").apply(agg_func)\n",
        "        self.sentences = [s for s in self.grouped]\n",
        "    \n",
        "    def get_next(self):\n",
        "        try:\n",
        "            s = self.grouped[\"Sentence: {}\".format(self.n_sent)]\n",
        "            self.n_sent += 1\n",
        "            return s\n",
        "        except:\n",
        "            return None"
      ],
      "execution_count": null,
      "outputs": []
    },
    {
      "cell_type": "code",
      "metadata": {
        "id": "XV6YXRg23cbw"
      },
      "source": [
        "getter = SentenceGetter(df)\n",
        "sentences = getter.sentences"
      ],
      "execution_count": null,
      "outputs": []
    },
    {
      "cell_type": "code",
      "metadata": {
        "colab": {
          "base_uri": "https://localhost:8080/"
        },
        "id": "vsgxKFTD5kEh",
        "outputId": "72d3b9b9-92bc-4cda-91aa-5c2f26cf0a46"
      },
      "source": [
        "#mencari kalimat terpanjang dalam dataset\n",
        "maxlen = max([len(s) for s in sentences])\n",
        "print ('Maximum sequence length:', maxlen)"
      ],
      "execution_count": null,
      "outputs": [
        {
          "output_type": "stream",
          "text": [
            "Maximum sequence length: 36\n"
          ],
          "name": "stdout"
        }
      ]
    },
    {
      "cell_type": "code",
      "metadata": {
        "id": "-FNl-GAs54En"
      },
      "source": [
        "df_dict = pd.read_csv('df_new_dict.csv')\n",
        "df_dict = df_dict.drop(columns=\"Unnamed: 0\")\n",
        "df_dict.iloc[0,0]=str(df_dict.iloc[0,0])"
      ],
      "execution_count": null,
      "outputs": []
    },
    {
      "cell_type": "code",
      "metadata": {
        "id": "Gpdu6WjFw0z4"
      },
      "source": [
        "words = df_dict['Words'].values"
      ],
      "execution_count": null,
      "outputs": []
    },
    {
      "cell_type": "code",
      "metadata": {
        "colab": {
          "base_uri": "https://localhost:8080/"
        },
        "id": "9kTBgQ9I5643",
        "outputId": "b6a883db-5259-42af-f951-b18773ac36da"
      },
      "source": [
        "n_words = len(words); n_words"
      ],
      "execution_count": null,
      "outputs": [
        {
          "output_type": "execute_result",
          "data": {
            "text/plain": [
              "87407"
            ]
          },
          "metadata": {
            "tags": []
          },
          "execution_count": 13
        }
      ]
    },
    {
      "cell_type": "code",
      "metadata": {
        "id": "rk-YePYT57Xn"
      },
      "source": [
        "tags = list(set(df[\"Tag\"].values))"
      ],
      "execution_count": null,
      "outputs": []
    },
    {
      "cell_type": "code",
      "metadata": {
        "colab": {
          "base_uri": "https://localhost:8080/"
        },
        "id": "0tC5U3vn5-GQ",
        "outputId": "a5155ccd-ef94-41fa-842c-ed0accf810dd"
      },
      "source": [
        "n_tags = len(tags); n_tags"
      ],
      "execution_count": null,
      "outputs": [
        {
          "output_type": "execute_result",
          "data": {
            "text/plain": [
              "3"
            ]
          },
          "metadata": {
            "tags": []
          },
          "execution_count": 16
        }
      ]
    },
    {
      "cell_type": "code",
      "metadata": {
        "id": "19MYcjoTw-bT"
      },
      "source": [
        "word_list = df_dict['Words'].values\n",
        "key_list = df_dict['Key'].values\n",
        "word2idx = dict(zip(word_list, key_list))"
      ],
      "execution_count": null,
      "outputs": []
    },
    {
      "cell_type": "code",
      "metadata": {
        "id": "tiyO7EfF5-ro"
      },
      "source": [
        "tag2idx = {t: i for i, t in enumerate(tags)}"
      ],
      "execution_count": null,
      "outputs": []
    },
    {
      "cell_type": "code",
      "metadata": {
        "colab": {
          "base_uri": "https://localhost:8080/"
        },
        "id": "kTodnM0VxAm4",
        "outputId": "ffedd29b-f245-4811-fbe9-666e4ab520ff"
      },
      "source": [
        "tag2idx"
      ],
      "execution_count": null,
      "outputs": [
        {
          "output_type": "execute_result",
          "data": {
            "text/plain": [
              "{'B-STR': 1, 'I-STR': 0, 'O': 2}"
            ]
          },
          "metadata": {
            "tags": []
          },
          "execution_count": 19
        }
      ]
    },
    {
      "cell_type": "code",
      "metadata": {
        "colab": {
          "base_uri": "https://localhost:8080/"
        },
        "id": "lPMFrZvD6BXv",
        "outputId": "7d22ce47-ac1d-4934-f366-f8db897f86fd"
      },
      "source": [
        "from keras.preprocessing.sequence import pad_sequences\n",
        "X = [[word2idx[w[0]] for w in s] for s in sentences]\n",
        "print(X[0])"
      ],
      "execution_count": null,
      "outputs": [
        {
          "output_type": "stream",
          "text": [
            "[50845, 15652, 24998, 44692, 53189, 47101, 64955, 26060, 1310, 53476, 17121, 62043, 61479]\n"
          ],
          "name": "stdout"
        }
      ]
    },
    {
      "cell_type": "code",
      "metadata": {
        "colab": {
          "base_uri": "https://localhost:8080/"
        },
        "id": "acR1LMRD6gmw",
        "outputId": "d8b493ed-a859-4ebf-acc9-cd28ab667dbe"
      },
      "source": [
        "X = pad_sequences(maxlen=36, sequences=X, padding=\"post\",value=87406)\n",
        "print(X[0])"
      ],
      "execution_count": null,
      "outputs": [
        {
          "output_type": "stream",
          "text": [
            "[50845 15652 24998 44692 53189 47101 64955 26060  1310 53476 17121 62043\n",
            " 61479 87406 87406 87406 87406 87406 87406 87406 87406 87406 87406 87406\n",
            " 87406 87406 87406 87406 87406 87406 87406 87406 87406 87406 87406 87406]\n"
          ],
          "name": "stdout"
        }
      ]
    },
    {
      "cell_type": "code",
      "metadata": {
        "colab": {
          "base_uri": "https://localhost:8080/"
        },
        "id": "R77sKW3N6nm7",
        "outputId": "7df4d3e8-ab0b-44a6-ca7a-ec1404ebcc71"
      },
      "source": [
        "y = [[tag2idx[w[1]] for w in s] for s in sentences]\n",
        "print(y[5])"
      ],
      "execution_count": null,
      "outputs": [
        {
          "output_type": "stream",
          "text": [
            "[1, 0, 0, 2, 2, 2, 2, 2]\n"
          ],
          "name": "stdout"
        }
      ]
    },
    {
      "cell_type": "code",
      "metadata": {
        "colab": {
          "base_uri": "https://localhost:8080/"
        },
        "id": "pmnMAcwa6p90",
        "outputId": "c9ac1e02-e90a-445e-a90c-3acfe86beb73"
      },
      "source": [
        "y = pad_sequences(maxlen=36, sequences=y, padding=\"post\", value=tag2idx[\"O\"])\n",
        "print(y)"
      ],
      "execution_count": null,
      "outputs": [
        {
          "output_type": "stream",
          "text": [
            "[[1 0 0 ... 2 2 2]\n",
            " [2 2 2 ... 2 2 2]\n",
            " [2 1 2 ... 2 2 2]\n",
            " ...\n",
            " [2 2 2 ... 2 2 2]\n",
            " [2 2 2 ... 2 2 2]\n",
            " [2 2 2 ... 2 2 2]]\n"
          ],
          "name": "stdout"
        }
      ]
    },
    {
      "cell_type": "code",
      "metadata": {
        "colab": {
          "base_uri": "https://localhost:8080/"
        },
        "id": "HWmpnyJA6r90",
        "outputId": "c9e317e0-8a40-450f-e093-45ef55efb5bb"
      },
      "source": [
        "from keras.utils import to_categorical\n",
        "y = [to_categorical(i, num_classes=n_tags) for i in y]\n",
        "print(y[0])"
      ],
      "execution_count": null,
      "outputs": [
        {
          "output_type": "stream",
          "text": [
            "[[0. 1. 0.]\n",
            " [1. 0. 0.]\n",
            " [1. 0. 0.]\n",
            " [1. 0. 0.]\n",
            " [1. 0. 0.]\n",
            " [1. 0. 0.]\n",
            " [1. 0. 0.]\n",
            " [1. 0. 0.]\n",
            " [0. 0. 1.]\n",
            " [0. 0. 1.]\n",
            " [0. 0. 1.]\n",
            " [0. 0. 1.]\n",
            " [0. 0. 1.]\n",
            " [0. 0. 1.]\n",
            " [0. 0. 1.]\n",
            " [0. 0. 1.]\n",
            " [0. 0. 1.]\n",
            " [0. 0. 1.]\n",
            " [0. 0. 1.]\n",
            " [0. 0. 1.]\n",
            " [0. 0. 1.]\n",
            " [0. 0. 1.]\n",
            " [0. 0. 1.]\n",
            " [0. 0. 1.]\n",
            " [0. 0. 1.]\n",
            " [0. 0. 1.]\n",
            " [0. 0. 1.]\n",
            " [0. 0. 1.]\n",
            " [0. 0. 1.]\n",
            " [0. 0. 1.]\n",
            " [0. 0. 1.]\n",
            " [0. 0. 1.]\n",
            " [0. 0. 1.]\n",
            " [0. 0. 1.]\n",
            " [0. 0. 1.]\n",
            " [0. 0. 1.]]\n"
          ],
          "name": "stdout"
        }
      ]
    },
    {
      "cell_type": "code",
      "metadata": {
        "id": "KG_FkAHS6vcz"
      },
      "source": [
        "from sklearn.model_selection import train_test_split\n",
        "X_train, X_test, y_train, y_test = train_test_split(X, y, test_size=0.2)"
      ],
      "execution_count": null,
      "outputs": []
    },
    {
      "cell_type": "code",
      "metadata": {
        "id": "oyFoR35_6xUD"
      },
      "source": [
        "from keras.models import Model, Input\n",
        "from keras.layers import LSTM, Embedding, Dense, TimeDistributed, Dropout, Bidirectional\n",
        "from keras.regularizers import l2\n",
        "from keras.callbacks import EarlyStopping\n",
        "from keras.callbacks import ModelCheckpoint\n",
        "es = EarlyStopping(monitor='val_loss', mode='min', verbose=1)\n",
        "mc = ModelCheckpoint('best_model_street.h5', monitor='val_loss', mode='min', save_best_only=True)"
      ],
      "execution_count": null,
      "outputs": []
    },
    {
      "cell_type": "code",
      "metadata": {
        "id": "w4Y9wunRxHbQ"
      },
      "source": [
        "from keras.optimizers import Adam\n",
        "opt = Adam(learning_rate=0.01)"
      ],
      "execution_count": null,
      "outputs": []
    },
    {
      "cell_type": "code",
      "metadata": {
        "id": "IclZxLhGxLxo"
      },
      "source": [
        "Y = np.array(y)"
      ],
      "execution_count": null,
      "outputs": []
    },
    {
      "cell_type": "code",
      "metadata": {
        "colab": {
          "base_uri": "https://localhost:8080/"
        },
        "id": "AhGcI-ZnxOkA",
        "outputId": "36c7e4d4-e96e-44cf-e7cf-1f93df9e33f9"
      },
      "source": [
        "from sklearn.model_selection import KFold\n",
        "seed = 7\n",
        "np.random.seed(seed)\n",
        "kfold = KFold(n_splits=5, shuffle=True, random_state=seed)\n",
        "cvscores = []\n",
        "test_loss = 1\n",
        "for train, test in kfold.split(X, Y):\n",
        "  # create model\n",
        "  input=Input(shape=(36,))\n",
        "  model=Embedding(input_dim=n_words, output_dim=36, input_length=36)(input)\n",
        "  model=Dropout(0.2)(model)\n",
        "  model=Bidirectional(LSTM(units=117, return_sequences=True, activity_regularizer=l2(0.01), recurrent_dropout=0.2))(model)\n",
        "  out=TimeDistributed(Dense(n_tags, activation=\"softmax\"))(model)\n",
        "  model=Model(input, out)\n",
        "\t# Compile model\n",
        "  model.compile(optimizer=opt, loss=\"categorical_crossentropy\", metrics=[\"accuracy\"])\n",
        "\t# Fit the model\n",
        "  model.fit(X[train], Y[train], batch_size=32, epochs=5, validation_split=0.2, verbose=1, callbacks=[mc,es])\n",
        "\t# evaluate the model\n",
        "  scores = model.evaluate(X[test], Y[test], verbose=1)\n",
        "  if test_loss>scores[0]:\n",
        "    test_loss=scores[0]\n",
        "    model.save_weights('best_model_cv_final_street.h5')\n",
        "  print(\"%s: %.2f%%\" % (model.metrics_names[1], scores[1]*100))\n",
        "  cvscores.append(scores[1] * 100)\n",
        "print(\"%.2f%% (+/- %.2f%%)\" % (np.mean(cvscores), np.std(cvscores)))"
      ],
      "execution_count": null,
      "outputs": [
        {
          "output_type": "stream",
          "text": [
            "Epoch 1/5\n",
            "6000/6000 [==============================] - 1067s 177ms/step - loss: 0.1024 - accuracy: 0.9767 - val_loss: 0.0439 - val_accuracy: 0.9856\n",
            "Epoch 2/5\n",
            "6000/6000 [==============================] - 1048s 175ms/step - loss: 0.0397 - accuracy: 0.9869 - val_loss: 0.0407 - val_accuracy: 0.9861\n",
            "Epoch 3/5\n",
            "6000/6000 [==============================] - 1043s 174ms/step - loss: 0.0340 - accuracy: 0.9889 - val_loss: 0.0433 - val_accuracy: 0.9861\n",
            "Epoch 00003: early stopping\n",
            "1875/1875 [==============================] - 38s 20ms/step - loss: 0.0433 - accuracy: 0.9861\n",
            "accuracy: 98.61%\n",
            "Epoch 1/5\n",
            "6000/6000 [==============================] - 1048s 174ms/step - loss: 0.0912 - accuracy: 0.9743 - val_loss: 0.0437 - val_accuracy: 0.9855\n",
            "Epoch 2/5\n",
            "6000/6000 [==============================] - 1044s 174ms/step - loss: 0.0392 - accuracy: 0.9871 - val_loss: 0.0415 - val_accuracy: 0.9858\n",
            "Epoch 3/5\n",
            "6000/6000 [==============================] - 1042s 174ms/step - loss: 0.0340 - accuracy: 0.9889 - val_loss: 0.0423 - val_accuracy: 0.9855\n",
            "Epoch 00003: early stopping\n",
            "1875/1875 [==============================] - 37s 20ms/step - loss: 0.0419 - accuracy: 0.9856\n",
            "accuracy: 98.56%\n",
            "Epoch 1/5\n",
            "6000/6000 [==============================] - 1038s 172ms/step - loss: 0.0939 - accuracy: 0.9744 - val_loss: 0.0448 - val_accuracy: 0.9852\n",
            "Epoch 2/5\n",
            "6000/6000 [==============================] - 1039s 173ms/step - loss: 0.0400 - accuracy: 0.9868 - val_loss: 0.0421 - val_accuracy: 0.9861\n",
            "Epoch 3/5\n",
            "6000/6000 [==============================] - 1037s 173ms/step - loss: 0.0344 - accuracy: 0.9888 - val_loss: 0.0427 - val_accuracy: 0.9858\n",
            "Epoch 00003: early stopping\n",
            "1875/1875 [==============================] - 37s 20ms/step - loss: 0.0426 - accuracy: 0.9858\n",
            "accuracy: 98.58%\n",
            "Epoch 1/5\n",
            "6000/6000 [==============================] - 1033s 172ms/step - loss: 0.1039 - accuracy: 0.9733 - val_loss: 0.0455 - val_accuracy: 0.9859\n",
            "Epoch 2/5\n",
            "6000/6000 [==============================] - 1045s 174ms/step - loss: 0.0411 - accuracy: 0.9865 - val_loss: 0.0447 - val_accuracy: 0.9858\n",
            "Epoch 3/5\n",
            "6000/6000 [==============================] - 1048s 175ms/step - loss: 0.0353 - accuracy: 0.9884 - val_loss: 0.0443 - val_accuracy: 0.9857\n",
            "Epoch 4/5\n",
            "6000/6000 [==============================] - 1053s 175ms/step - loss: 0.0324 - accuracy: 0.9893 - val_loss: 0.0444 - val_accuracy: 0.9842\n",
            "Epoch 00004: early stopping\n",
            "1875/1875 [==============================] - 40s 21ms/step - loss: 0.0443 - accuracy: 0.9841\n",
            "accuracy: 98.41%\n",
            "Epoch 1/5\n",
            "6000/6000 [==============================] - 1054s 175ms/step - loss: 0.1058 - accuracy: 0.9736 - val_loss: 0.0447 - val_accuracy: 0.9858\n",
            "Epoch 2/5\n",
            "6000/6000 [==============================] - 1053s 176ms/step - loss: 0.0402 - accuracy: 0.9868 - val_loss: 0.0427 - val_accuracy: 0.9855\n",
            "Epoch 3/5\n",
            "6000/6000 [==============================] - 1051s 175ms/step - loss: 0.0348 - accuracy: 0.9886 - val_loss: 0.0426 - val_accuracy: 0.9860\n",
            "Epoch 4/5\n",
            "6000/6000 [==============================] - 1052s 175ms/step - loss: 0.0319 - accuracy: 0.9896 - val_loss: 0.0426 - val_accuracy: 0.9855\n",
            "Epoch 00004: early stopping\n",
            "1875/1875 [==============================] - 39s 21ms/step - loss: 0.0426 - accuracy: 0.9854\n",
            "accuracy: 98.54%\n",
            "98.54% (+/- 0.07%)\n"
          ],
          "name": "stdout"
        }
      ]
    },
    {
      "cell_type": "code",
      "metadata": {
        "id": "VfwRCmxJ6y00"
      },
      "source": [
        "input=Input(shape=(36,))\n",
        "model=Embedding(input_dim=n_words, output_dim=36, input_length=36)(input)\n",
        "model=Dropout(0.2)(model)\n",
        "model=Bidirectional(LSTM(units=117, return_sequences=True, activity_regularizer=l2(0.01), recurrent_dropout=0.2))(model)\n",
        "out=TimeDistributed(Dense(n_tags, activation=\"softmax\"))(model)\n",
        "model=Model(input, out)"
      ],
      "execution_count": null,
      "outputs": []
    },
    {
      "cell_type": "code",
      "metadata": {
        "id": "9O4dRATW63Nc"
      },
      "source": [
        "model.compile(optimizer=opt, loss=\"categorical_crossentropy\", metrics=[\"accuracy\"])"
      ],
      "execution_count": null,
      "outputs": []
    },
    {
      "cell_type": "code",
      "metadata": {
        "colab": {
          "base_uri": "https://localhost:8080/"
        },
        "id": "CLLyFiVDNpFP",
        "outputId": "66aabcb2-650f-4510-ffc9-8cfd3b8acfd4"
      },
      "source": [
        "model.summary()"
      ],
      "execution_count": null,
      "outputs": [
        {
          "output_type": "stream",
          "text": [
            "Model: \"model\"\n",
            "_________________________________________________________________\n",
            "Layer (type)                 Output Shape              Param #   \n",
            "=================================================================\n",
            "input_1 (InputLayer)         [(None, 36)]              0         \n",
            "_________________________________________________________________\n",
            "embedding (Embedding)        (None, 36, 36)            3146616   \n",
            "_________________________________________________________________\n",
            "dropout (Dropout)            (None, 36, 36)            0         \n",
            "_________________________________________________________________\n",
            "bidirectional (Bidirectional (None, 36, 234)           144144    \n",
            "_________________________________________________________________\n",
            "time_distributed (TimeDistri (None, 36, 3)             705       \n",
            "=================================================================\n",
            "Total params: 3,291,465\n",
            "Trainable params: 3,291,465\n",
            "Non-trainable params: 0\n",
            "_________________________________________________________________\n"
          ],
          "name": "stdout"
        }
      ]
    },
    {
      "cell_type": "code",
      "metadata": {
        "colab": {
          "base_uri": "https://localhost:8080/"
        },
        "id": "zu3Ihs5464jy",
        "outputId": "f1824c44-f55e-4d69-aaee-32665bf695ac"
      },
      "source": [
        "history = model.fit(X_train, np.array(y_train), batch_size=32, epochs=3, validation_split=0.2, verbose=1, callbacks=[es,mc])"
      ],
      "execution_count": null,
      "outputs": [
        {
          "output_type": "stream",
          "text": [
            "Epoch 1/3\n",
            "6000/6000 [==============================] - 546s 91ms/step - loss: 0.1698 - accuracy: 0.9720 - val_loss: 0.0502 - val_accuracy: 0.9857\n",
            "Epoch 2/3\n",
            "6000/6000 [==============================] - 539s 90ms/step - loss: 0.0404 - accuracy: 0.9883 - val_loss: 0.0416 - val_accuracy: 0.9859\n",
            "Epoch 3/3\n",
            "6000/6000 [==============================] - 535s 89ms/step - loss: 0.0291 - accuracy: 0.9911 - val_loss: 0.0418 - val_accuracy: 0.9862\n",
            "Epoch 00003: early stopping\n"
          ],
          "name": "stdout"
        }
      ]
    },
    {
      "cell_type": "code",
      "metadata": {
        "id": "jUb0qhIy-kmi"
      },
      "source": [
        "model.load_weights('best_model_cv_final_street.h5')"
      ],
      "execution_count": null,
      "outputs": []
    },
    {
      "cell_type": "code",
      "metadata": {
        "colab": {
          "base_uri": "https://localhost:8080/"
        },
        "id": "UPHG3ka1LNMm",
        "outputId": "b4447a8b-e5e7-48c2-aa22-963ea940c4ca"
      },
      "source": [
        "model.evaluate(X_test,np.array(y_test))"
      ],
      "execution_count": null,
      "outputs": [
        {
          "output_type": "stream",
          "text": [
            "1875/1875 [==============================] - 38s 20ms/step - loss: 0.0323 - accuracy: 0.9894\n"
          ],
          "name": "stdout"
        },
        {
          "output_type": "execute_result",
          "data": {
            "text/plain": [
              "[0.03237496316432953, 0.9892712831497192]"
            ]
          },
          "metadata": {
            "tags": []
          },
          "execution_count": 34
        }
      ]
    },
    {
      "cell_type": "code",
      "metadata": {
        "colab": {
          "base_uri": "https://localhost:8080/"
        },
        "id": "FqqBKQcD65yB",
        "outputId": "c806b7f8-9dbd-4d47-c5ba-3ee7c89e9d2d"
      },
      "source": [
        "from tqdm import tqdm\n",
        "\n",
        "pred_ = []\n",
        "true_ = []\n",
        "id_test = range(len(X_test))\n",
        "for i in tqdm(id_test):\n",
        "  p = model.predict(np.array([X_test[i]]))\n",
        "  p = np.argmax(p, axis=-1)\n",
        "  p_trans = np.transpose(p)\n",
        "  count = 0\n",
        "  for x in p_trans :\n",
        "    if x == tag2idx[\"I-STR\"] :\n",
        "      if p_trans[count-1] == tag2idx[\"O\"] :\n",
        "        p_trans[count-1] = tag2idx[\"B-STR\"]\n",
        "        count += 1\n",
        "      else :\n",
        "        count += 1\n",
        "    else :\n",
        "      count += 1\n",
        "    p_fin = np.transpose(p_trans)\n",
        "  q = np.array(y_test[i])\n",
        "  q = np.argmax(q, axis=-1)\n",
        "  pred_.append(p_fin[0])\n",
        "  true_.append(q)"
      ],
      "execution_count": null,
      "outputs": [
        {
          "output_type": "stream",
          "text": [
            "100%|██████████| 60000/60000 [47:38<00:00, 20.99it/s]\n"
          ],
          "name": "stderr"
        }
      ]
    },
    {
      "cell_type": "code",
      "metadata": {
        "id": "YQBJNPugWhnx"
      },
      "source": [
        "true_temp = np.array(true_)\n",
        "pred_temp = np.array(pred_)"
      ],
      "execution_count": null,
      "outputs": []
    },
    {
      "cell_type": "code",
      "metadata": {
        "id": "OzV8CMZbV5Ue",
        "colab": {
          "base_uri": "https://localhost:8080/"
        },
        "outputId": "1be48460-cc88-4eb7-c5de-2efc35755edc"
      },
      "source": [
        "analyze = []\n",
        "true_score=[]\n",
        "dummy = 0\n",
        "for i in tqdm(id_test):\n",
        "  for j in range(0,36):\n",
        "    if true_temp[i,j]==pred_temp[i,j]:\n",
        "      dummy += 1\n",
        "    else :\n",
        "      analyze.append(0)\n",
        "      dummy = 0\n",
        "      break\n",
        "  if dummy == 36 :\n",
        "    analyze.append(1)\n",
        "    true_score.append(1)\n",
        "    dummy = 0\n",
        "  else :\n",
        "    dummy = 0\n",
        "\n",
        "\n",
        "print(\"acc : \",len(true_score)/len(id_test)*100,\"%\")"
      ],
      "execution_count": null,
      "outputs": [
        {
          "output_type": "stream",
          "text": [
            "100%|██████████| 60000/60000 [00:01<00:00, 53086.21it/s]"
          ],
          "name": "stderr"
        },
        {
          "output_type": "stream",
          "text": [
            "acc :  79.81166666666667 %\n"
          ],
          "name": "stdout"
        },
        {
          "output_type": "stream",
          "text": [
            "\n"
          ],
          "name": "stderr"
        }
      ]
    },
    {
      "cell_type": "code",
      "metadata": {
        "id": "ZvI2qhtZBiN0",
        "colab": {
          "base_uri": "https://localhost:8080/"
        },
        "outputId": "f2b515ae-c009-4fe5-d8b1-f5b1e0b6d5ce"
      },
      "source": [
        "ready_poi = []\n",
        "for i in tqdm(id_test):\n",
        "  ans = ''\n",
        "  for w,pred in zip(X_test[i],pred_[i]):\n",
        "    if tags[pred] == \"B-STR\":\n",
        "      ans = ans + str(words[w])\n",
        "    elif tags[pred] == \"I-STR\":\n",
        "      ans = ans + ' ' + str(words[w])\n",
        "    else:\n",
        "      ans = ans\n",
        "  ready_poi = np.append(ready_poi,ans)"
      ],
      "execution_count": null,
      "outputs": [
        {
          "output_type": "stream",
          "text": [
            "100%|██████████| 60000/60000 [02:30<00:00, 398.86it/s]\n"
          ],
          "name": "stderr"
        }
      ]
    },
    {
      "cell_type": "markdown",
      "metadata": {
        "id": "qtgFcgFaRJ4j"
      },
      "source": [
        "RUN THIS AFTER PREDICTING X_TEST"
      ]
    },
    {
      "cell_type": "code",
      "metadata": {
        "colab": {
          "base_uri": "https://localhost:8080/",
          "height": 415
        },
        "id": "_VfEY1ehRJFY",
        "outputId": "cff9937b-ea7d-4e7a-e827-162c2666918c"
      },
      "source": [
        "test = pd.read_csv(\"df_new.csv\")\n",
        "data_test = test.drop(['Unnamed: 0'],axis=1)\n",
        "data_test"
      ],
      "execution_count": null,
      "outputs": [
        {
          "output_type": "execute_result",
          "data": {
            "text/html": [
              "<div>\n",
              "<style scoped>\n",
              "    .dataframe tbody tr th:only-of-type {\n",
              "        vertical-align: middle;\n",
              "    }\n",
              "\n",
              "    .dataframe tbody tr th {\n",
              "        vertical-align: top;\n",
              "    }\n",
              "\n",
              "    .dataframe thead th {\n",
              "        text-align: right;\n",
              "    }\n",
              "</style>\n",
              "<table border=\"1\" class=\"dataframe\">\n",
              "  <thead>\n",
              "    <tr style=\"text-align: right;\">\n",
              "      <th></th>\n",
              "      <th>Sentence</th>\n",
              "      <th>Word</th>\n",
              "    </tr>\n",
              "  </thead>\n",
              "  <tbody>\n",
              "    <tr>\n",
              "      <th>0</th>\n",
              "      <td>1</td>\n",
              "      <td>s</td>\n",
              "    </tr>\n",
              "    <tr>\n",
              "      <th>1</th>\n",
              "      <td>1</td>\n",
              "      <td>dot</td>\n",
              "    </tr>\n",
              "    <tr>\n",
              "      <th>2</th>\n",
              "      <td>1</td>\n",
              "      <td>par</td>\n",
              "    </tr>\n",
              "    <tr>\n",
              "      <th>3</th>\n",
              "      <td>1</td>\n",
              "      <td>53</td>\n",
              "    </tr>\n",
              "    <tr>\n",
              "      <th>4</th>\n",
              "      <td>1</td>\n",
              "      <td>sidanegara</td>\n",
              "    </tr>\n",
              "    <tr>\n",
              "      <th>...</th>\n",
              "      <td>...</td>\n",
              "      <td>...</td>\n",
              "    </tr>\n",
              "    <tr>\n",
              "      <th>392702</th>\n",
              "      <td>49999</td>\n",
              "      <td>no</td>\n",
              "    </tr>\n",
              "    <tr>\n",
              "      <th>392703</th>\n",
              "      <td>49999</td>\n",
              "      <td>dot</td>\n",
              "    </tr>\n",
              "    <tr>\n",
              "      <th>392704</th>\n",
              "      <td>49999</td>\n",
              "      <td>11</td>\n",
              "    </tr>\n",
              "    <tr>\n",
              "      <th>392705</th>\n",
              "      <td>50000</td>\n",
              "      <td>adi</td>\n",
              "    </tr>\n",
              "    <tr>\n",
              "      <th>392706</th>\n",
              "      <td>50000</td>\n",
              "      <td>comma</td>\n",
              "    </tr>\n",
              "  </tbody>\n",
              "</table>\n",
              "<p>392707 rows × 2 columns</p>\n",
              "</div>"
            ],
            "text/plain": [
              "        Sentence        Word\n",
              "0              1           s\n",
              "1              1         dot\n",
              "2              1         par\n",
              "3              1          53\n",
              "4              1  sidanegara\n",
              "...          ...         ...\n",
              "392702     49999          no\n",
              "392703     49999         dot\n",
              "392704     49999          11\n",
              "392705     50000         adi\n",
              "392706     50000       comma\n",
              "\n",
              "[392707 rows x 2 columns]"
            ]
          },
          "metadata": {
            "tags": []
          },
          "execution_count": 40
        }
      ]
    },
    {
      "cell_type": "code",
      "metadata": {
        "id": "GAC4oMdTULjc"
      },
      "source": [
        "class SentenceGetter(object):\n",
        "    \n",
        "    def __init__(self, dataset):\n",
        "        self.n_sent = 1\n",
        "        self.dataset = dataset\n",
        "        self.empty = False\n",
        "        agg_func = lambda s: [(w) for w in zip(s[\"Word\"].values.tolist())]\n",
        "        self.grouped = self.dataset.groupby(\"Sentence\").apply(agg_func)\n",
        "        self.sentences = [s for s in self.grouped]\n",
        "    \n",
        "    def get_next(self):\n",
        "        try:\n",
        "            s = self.grouped[\"Sentence: {}\".format(self.n_sent)]\n",
        "            self.n_sent += 1\n",
        "            return s\n",
        "        except:\n",
        "            return None"
      ],
      "execution_count": null,
      "outputs": []
    },
    {
      "cell_type": "code",
      "metadata": {
        "colab": {
          "base_uri": "https://localhost:8080/"
        },
        "id": "F92VgENCRoek",
        "outputId": "8d0508bf-f30f-45b0-e16f-db84a700a5e5"
      },
      "source": [
        "getter_test = SentenceGetter(data_test)\n",
        "sentences_test = getter_test.sentences\n",
        "maxlen = max([len(s) for s in sentences_test])\n",
        "print ('Maximum sequence length:', maxlen)"
      ],
      "execution_count": null,
      "outputs": [
        {
          "output_type": "stream",
          "text": [
            "Maximum sequence length: 33\n"
          ],
          "name": "stdout"
        }
      ]
    },
    {
      "cell_type": "code",
      "metadata": {
        "colab": {
          "base_uri": "https://localhost:8080/"
        },
        "id": "-JnrUjy1RsGD",
        "outputId": "40dc9621-4b89-4525-e867-be85e6378f60"
      },
      "source": [
        "X_fintest = [[word2idx[w[0]] for w in s] for s in sentences_test]\n",
        "X_fintest = pad_sequences(maxlen=36, sequences=X_fintest, padding=\"post\",value=87406)\n",
        "print(X_fintest[0])"
      ],
      "execution_count": null,
      "outputs": [
        {
          "output_type": "stream",
          "text": [
            "[73351 16517 26887 24589 33464 30505 77919 43143 87406 87406 87406 87406\n",
            " 87406 87406 87406 87406 87406 87406 87406 87406 87406 87406 87406 87406\n",
            " 87406 87406 87406 87406 87406 87406 87406 87406 87406 87406 87406 87406]\n"
          ],
          "name": "stdout"
        }
      ]
    },
    {
      "cell_type": "code",
      "metadata": {
        "colab": {
          "base_uri": "https://localhost:8080/"
        },
        "id": "xAbJZ4juSLWk",
        "outputId": "1ae77f05-a53f-401f-9e7a-aec1bd32a712"
      },
      "source": [
        "from tqdm import tqdm\n",
        "\n",
        "pred_ = []\n",
        "true_ = []\n",
        "id_test = range(len(X_fintest))\n",
        "for i in tqdm(id_test):\n",
        "  p = model.predict(np.array([X_fintest[i]]))\n",
        "  p = np.argmax(p, axis=-1)\n",
        "  p_trans = np.transpose(p)\n",
        "  count = 0\n",
        "  for x in p_trans :\n",
        "    if x == tag2idx[\"I-STR\"] :\n",
        "      if p_trans[count-1] == tag2idx[\"O\"] :\n",
        "        p_trans[count-1] = tag2idx[\"B-STR\"]\n",
        "        count += 1\n",
        "      else :\n",
        "        count += 1\n",
        "    else :\n",
        "      count += 1\n",
        "    p_fin = np.transpose(p_trans)\n",
        "  pred_.append(p_fin[0])"
      ],
      "execution_count": null,
      "outputs": [
        {
          "output_type": "stream",
          "text": [
            "100%|██████████| 50000/50000 [39:45<00:00, 20.96it/s]\n"
          ],
          "name": "stderr"
        }
      ]
    },
    {
      "cell_type": "code",
      "metadata": {
        "id": "nmk_hpv-qGQ4",
        "colab": {
          "base_uri": "https://localhost:8080/"
        },
        "outputId": "f52db786-1e1d-4a66-af6c-153c6727f609"
      },
      "source": [
        "pred_[6]"
      ],
      "execution_count": null,
      "outputs": [
        {
          "output_type": "execute_result",
          "data": {
            "text/plain": [
              "array([2, 2, 2, 2, 2, 2, 2, 2, 2, 2, 2, 2, 2, 2, 2, 2, 2, 2, 2, 2, 2, 2,\n",
              "       2, 2, 2, 2, 2, 2, 2, 2, 2, 2, 2, 2, 2, 2])"
            ]
          },
          "metadata": {
            "tags": []
          },
          "execution_count": 45
        }
      ]
    },
    {
      "cell_type": "code",
      "metadata": {
        "id": "dqxPTumKbGar",
        "colab": {
          "base_uri": "https://localhost:8080/"
        },
        "outputId": "e3a66fd1-4052-4358-be76-d4b936863d3f"
      },
      "source": [
        "print(\"{:14} ({:5}): {}\".format(\"Word\", \"True\", \"Pred\"))\n",
        "for w,pred in zip(X_fintest[12],pred_[12]):\n",
        "    print(\"{:14}: {}\".format(words[w],tags[pred]))"
      ],
      "execution_count": null,
      "outputs": [
        {
          "output_type": "stream",
          "text": [
            "Word           (True ): Pred\n",
            "kimia         : O\n",
            "farma         : O\n",
            "comma         : O\n",
            "ENDPAD        : O\n",
            "ENDPAD        : O\n",
            "ENDPAD        : O\n",
            "ENDPAD        : O\n",
            "ENDPAD        : O\n",
            "ENDPAD        : O\n",
            "ENDPAD        : O\n",
            "ENDPAD        : O\n",
            "ENDPAD        : O\n",
            "ENDPAD        : O\n",
            "ENDPAD        : O\n",
            "ENDPAD        : O\n",
            "ENDPAD        : O\n",
            "ENDPAD        : O\n",
            "ENDPAD        : O\n",
            "ENDPAD        : O\n",
            "ENDPAD        : O\n",
            "ENDPAD        : O\n",
            "ENDPAD        : O\n",
            "ENDPAD        : O\n",
            "ENDPAD        : O\n",
            "ENDPAD        : O\n",
            "ENDPAD        : O\n",
            "ENDPAD        : O\n",
            "ENDPAD        : O\n",
            "ENDPAD        : O\n",
            "ENDPAD        : O\n",
            "ENDPAD        : O\n",
            "ENDPAD        : O\n",
            "ENDPAD        : O\n",
            "ENDPAD        : O\n",
            "ENDPAD        : O\n",
            "ENDPAD        : O\n"
          ],
          "name": "stdout"
        }
      ]
    },
    {
      "cell_type": "code",
      "metadata": {
        "id": "C2cMBKbs8Vp7"
      },
      "source": [
        "poi_pred_final=[]\n",
        "for i in words:\n",
        "  word_=str(i).replace(\" dot \",\". \")\n",
        "  word_=word_.replace(\" dot\",\"\")\n",
        "  word_=word_.replace(\"dot \",\"\")\n",
        "  word_=word_.replace(\" comma \",\", \")\n",
        "  word_=word_.replace(\"comma \",\"\")\n",
        "  word_=word_.replace(\" comma\",\"\")\n",
        "  poi_pred_final.append(word_)"
      ],
      "execution_count": null,
      "outputs": []
    },
    {
      "cell_type": "code",
      "metadata": {
        "colab": {
          "base_uri": "https://localhost:8080/"
        },
        "id": "oxlGVQpYStZl",
        "outputId": "9aa49cd9-3395-4fd3-b031-7268cce9a755"
      },
      "source": [
        "ready_poi = []\n",
        "for i in tqdm(id_test):\n",
        "  ans = ''\n",
        "  for w,pred in zip(X_fintest[i],pred_[i]):\n",
        "    if tags[pred] == \"B-STR\":\n",
        "      ans = ans + str(poi_pred_final[w]) + ' '\n",
        "    elif tags[pred] == \"I-STR\":\n",
        "      ans = ans + str(poi_pred_final[w]) + ' '\n",
        "    else:\n",
        "      ans = ans\n",
        "  if ans!=\"\":\n",
        "    ready_poi = np.append(ready_poi,ans[:-1])\n",
        "  else:\n",
        "    ready_poi = np.append(ready_poi,ans)"
      ],
      "execution_count": null,
      "outputs": [
        {
          "output_type": "stream",
          "text": [
            "100%|██████████| 50000/50000 [01:38<00:00, 506.83it/s]\n"
          ],
          "name": "stderr"
        }
      ]
    },
    {
      "cell_type": "code",
      "metadata": {
        "colab": {
          "base_uri": "https://localhost:8080/"
        },
        "id": "LZXfFlfv73my",
        "outputId": "e8768a61-80ac-4749-e586-c8600f661481"
      },
      "source": [
        "ready_poi[0:100]"
      ],
      "execution_count": null,
      "outputs": [
        {
          "output_type": "execute_result",
          "data": {
            "text/plain": [
              "array(['s dot par', 'angg per', 'mand imog', 'raya nga', 'cut mutia',\n",
              "       'perum gar', '', '', '', 'raya won', 'tebet raya', 'kemur vii', '',\n",
              "       '', 'raya pan jakat', 'raya', 'jl tanjung ii', 'ayu 3',\n",
              "       'pasar pagi raya', 'sukam', 'gg dot damai 1', 'ser aswan',\n",
              "       'gg dot pan', 'tebet barat vi', 'gad kir timur vi', '',\n",
              "       'raya bant', 'pulo mas barat vi', '', 'ki ageng peman',\n",
              "       'ahmad yani 19', 'jln dot hbr motik', 'gg dot mah', 'pab',\n",
              "       'star barat ii', 'taman cib', 'm dot t dot hary', 'ged hijau vii',\n",
              "       '', 'raya setu cibi bek', 'jl abu 1', '', 'letj supr',\n",
              "       'mand sela ii', 'jl jl dot letjen sutoyo', '', 'paru',\n",
              "       'pasar raya', 'pon', 'vete', 'raden saleh raya', 'bhin karya', '',\n",
              "       'mahk rege', 'jend sudi', 'taman hara baru', 'aka delp',\n",
              "       'kh dot wahid has', '', 'raya kapas', 'pal xi', 'cibi', 'mast',\n",
              "       'kawat i', 'lele', 'jamba', 'perw', 'pulau bida', 'par sarpo i',\n",
              "       'desa ken', '', '', 'derm lonc', '', 'mla ii', 'raya band', 'pan',\n",
              "       'mannu', 'klam jaya', 'can men v b', 'kapas utara vi',\n",
              "       'komo halim perd kus', 'cilobak 4', 'gg dot wono',\n",
              "       'pon ben indah i', 'raya matr raya', 'jend sudi', '', '', '',\n",
              "       'pelab', 'bun raya per', 'kenc utama ii', 'kali dha vi',\n",
              "       'gg dot 3 h dot asmat', '20 dese', 'nila', 'raya pasar', 'lin', ''],\n",
              "      dtype='<U54')"
            ]
          },
          "metadata": {
            "tags": []
          },
          "execution_count": 68
        }
      ]
    },
    {
      "cell_type": "code",
      "metadata": {
        "id": "JalPOWBZPmE-"
      },
      "source": [
        "poi_pred_final=[]\n",
        "for i in ready_poi:\n",
        "  word_=i.replace(\" dot \",\". \")\n",
        "  word_=word_.replace(\" dot\",\"\")\n",
        "  word_=word_.replace(\"dot \",\"\")\n",
        "  word_=word_.replace(\" comma \",\", \")\n",
        "  word_=word_.replace(\"comma \",\"\")\n",
        "  word_=word_.replace(\" comma\",\"\")\n",
        "  poi_pred_final.append(word_)"
      ],
      "execution_count": null,
      "outputs": []
    },
    {
      "cell_type": "code",
      "metadata": {
        "id": "s2zocIBAcISw"
      },
      "source": [
        "poi_df = pd.DataFrame(poi_pred_final, columns = ['Street'])"
      ],
      "execution_count": null,
      "outputs": []
    },
    {
      "cell_type": "code",
      "metadata": {
        "id": "UIp5B3x9ceBf",
        "colab": {
          "base_uri": "https://localhost:8080/",
          "height": 202
        },
        "outputId": "8fc81f73-b450-4ee3-92ad-1642a2f1baa4"
      },
      "source": [
        "poi_df.head()"
      ],
      "execution_count": null,
      "outputs": [
        {
          "output_type": "execute_result",
          "data": {
            "text/html": [
              "<div>\n",
              "<style scoped>\n",
              "    .dataframe tbody tr th:only-of-type {\n",
              "        vertical-align: middle;\n",
              "    }\n",
              "\n",
              "    .dataframe tbody tr th {\n",
              "        vertical-align: top;\n",
              "    }\n",
              "\n",
              "    .dataframe thead th {\n",
              "        text-align: right;\n",
              "    }\n",
              "</style>\n",
              "<table border=\"1\" class=\"dataframe\">\n",
              "  <thead>\n",
              "    <tr style=\"text-align: right;\">\n",
              "      <th></th>\n",
              "      <th>Street</th>\n",
              "    </tr>\n",
              "  </thead>\n",
              "  <tbody>\n",
              "    <tr>\n",
              "      <th>0</th>\n",
              "      <td>s. par</td>\n",
              "    </tr>\n",
              "    <tr>\n",
              "      <th>1</th>\n",
              "      <td>angg per</td>\n",
              "    </tr>\n",
              "    <tr>\n",
              "      <th>2</th>\n",
              "      <td>mand imog</td>\n",
              "    </tr>\n",
              "    <tr>\n",
              "      <th>3</th>\n",
              "      <td>raya nga</td>\n",
              "    </tr>\n",
              "    <tr>\n",
              "      <th>4</th>\n",
              "      <td>cut mutia</td>\n",
              "    </tr>\n",
              "  </tbody>\n",
              "</table>\n",
              "</div>"
            ],
            "text/plain": [
              "      Street\n",
              "0     s. par\n",
              "1   angg per\n",
              "2  mand imog\n",
              "3   raya nga\n",
              "4  cut mutia"
            ]
          },
          "metadata": {
            "tags": []
          },
          "execution_count": 74
        }
      ]
    },
    {
      "cell_type": "code",
      "metadata": {
        "id": "7d7VLxaA-dvx"
      },
      "source": [
        "df_test = pd.read_csv('test.csv')"
      ],
      "execution_count": null,
      "outputs": []
    },
    {
      "cell_type": "code",
      "metadata": {
        "id": "QsEVhc20-UnL"
      },
      "source": [
        "false_alarm=[]\n",
        "poi_word=[]\n",
        "idx=[]\n",
        "for i in range(len(poi_df)):\n",
        "  if poi_df.iloc[i,0]!=\"\":\n",
        "    if poi_df.iloc[i,0] not in df_test.iloc[i,1]:\n",
        "      idx.append(i)\n",
        "      false_alarm.append(poi_df.iloc[i,0])\n",
        "      poi_word.append(df_test.iloc[i,1])"
      ],
      "execution_count": null,
      "outputs": []
    },
    {
      "cell_type": "code",
      "metadata": {
        "colab": {
          "base_uri": "https://localhost:8080/"
        },
        "id": "fd6_xk1q-hGw",
        "outputId": "fe0b1f33-3022-4f96-d4e2-f24ee26b0c96"
      },
      "source": [
        "len(false_alarm)"
      ],
      "execution_count": null,
      "outputs": [
        {
          "output_type": "execute_result",
          "data": {
            "text/plain": [
              "41"
            ]
          },
          "metadata": {
            "tags": []
          },
          "execution_count": 113
        }
      ]
    },
    {
      "cell_type": "code",
      "metadata": {
        "colab": {
          "base_uri": "https://localhost:8080/"
        },
        "id": "r1CiMGbI-imo",
        "outputId": "8c4efb35-c800-41f2-cc59-4cd0525f5901"
      },
      "source": [
        "i = 17\n",
        "print(false_alarm[i],\"--\",poi_word[i])"
      ],
      "execution_count": null,
      "outputs": [
        {
          "output_type": "stream",
          "text": [
            "terr avenue pis kipas -- terr avenue., pis kipas jati mulyo\n"
          ],
          "name": "stdout"
        }
      ]
    },
    {
      "cell_type": "code",
      "metadata": {
        "id": "rq4C0k0P-ls1"
      },
      "source": [
        "!pip install fuzzywuzzy\n",
        "!pip install python-Levenshtein"
      ],
      "execution_count": null,
      "outputs": []
    },
    {
      "cell_type": "code",
      "metadata": {
        "id": "bPfhCQlO-o3P"
      },
      "source": [
        "from fuzzywuzzy import fuzz\n",
        "#string1 raw string 2 poi/street\n",
        "def find_keyword(string1,string2):\n",
        "  keyword = \"\"\n",
        "  string1 = string1.split()\n",
        "  for i in string1:\n",
        "    if i!='' and fuzz.ratio(i,string2) >= 70 and len(keyword.split())<len(string2.split()):\n",
        "      keyword+=i+\" \"\n",
        "  return(keyword[:-1])"
      ],
      "execution_count": null,
      "outputs": []
    },
    {
      "cell_type": "code",
      "metadata": {
        "colab": {
          "base_uri": "https://localhost:8080/"
        },
        "id": "deYbH07m-sAF",
        "outputId": "5bfe196b-5a11-4f5e-f15f-5975ee915c91"
      },
      "source": [
        "false_alarm[101:111]"
      ],
      "execution_count": null,
      "outputs": [
        {
          "output_type": "execute_result",
          "data": {
            "text/plain": [
              "['kavl al i',\n",
              " 'gg. mush at taqwa 1',\n",
              " 'jl. raya jl. bunga rampe 88kel',\n",
              " 'raya sore banj',\n",
              " 'jepara bangsri',\n",
              " 'jl. teknologi xii',\n",
              " 'i. bou bont',\n",
              " 'raya ngawi caru',\n",
              " 'gg. h. m. ma i',\n",
              " 'manu lor ii a']"
            ]
          },
          "metadata": {
            "tags": []
          },
          "execution_count": 86
        }
      ]
    },
    {
      "cell_type": "code",
      "metadata": {
        "id": "WjrWx0T2-uC_"
      },
      "source": [
        "true_poi=[]\n",
        "for i,j in zip(false_alarm,poi_word):\n",
        "  start_i=i.split()[0]\n",
        "  end_i=i.split()[-1]\n",
        "  #print(end_i,\"----\")\n",
        "  poi_w = j.split()\n",
        "  start_con=False\n",
        "  poi_w_=\"\"\n",
        "  for k in poi_w:\n",
        "    if find_keyword(k,start_i)==k:\n",
        "      start_con=True\n",
        "    if start_con:\n",
        "      poi_w_+=k+' '\n",
        "    if find_keyword(k,end_i)==k:\n",
        "      start_con=False\n",
        "  true_poi.append(poi_w_[:-1])"
      ],
      "execution_count": null,
      "outputs": []
    },
    {
      "cell_type": "code",
      "metadata": {
        "colab": {
          "base_uri": "https://localhost:8080/"
        },
        "id": "mUgIf_-3-wCI",
        "outputId": "9d9a38d1-ca1a-43d5-c2a3-292d4b2b9086"
      },
      "source": [
        "true_poi[0:10]"
      ],
      "execution_count": null,
      "outputs": [
        {
          "output_type": "execute_result",
          "data": {
            "text/plain": [
              "['jln.hbr motik',\n",
              " 'raya setu cibi - bek',\n",
              " 'jl. karya baru jl. letjen sutoyo,',\n",
              " 'jl.a dah',\n",
              " 'ngareanak pat - boja',\n",
              " '',\n",
              " 'jend r.s. soek,',\n",
              " '',\n",
              " 'kop sang cab. maum gajah mada',\n",
              " \"tanj sa'ar 95 jatiluhur jatiasih\"]"
            ]
          },
          "metadata": {
            "tags": []
          },
          "execution_count": 88
        }
      ]
    },
    {
      "cell_type": "code",
      "metadata": {
        "colab": {
          "base_uri": "https://localhost:8080/"
        },
        "id": "b4TwEHPo-y23",
        "outputId": "124a5025-5fe9-4135-c529-2d1b326544c1"
      },
      "source": [
        "idx[0:10]"
      ],
      "execution_count": null,
      "outputs": [
        {
          "output_type": "execute_result",
          "data": {
            "text/plain": [
              "[31, 39, 44, 102, 206, 246, 255, 286, 347, 506]"
            ]
          },
          "metadata": {
            "tags": []
          },
          "execution_count": 89
        }
      ]
    },
    {
      "cell_type": "code",
      "metadata": {
        "id": "Jk_udqFQ-2EW"
      },
      "source": [
        "poi_df.iloc[idx,0]=true_poi"
      ],
      "execution_count": null,
      "outputs": []
    },
    {
      "cell_type": "code",
      "metadata": {
        "colab": {
          "base_uri": "https://localhost:8080/"
        },
        "id": "2rM2fF6T-4UX",
        "outputId": "a149a5b8-b386-4cf3-94ae-439f43447c11"
      },
      "source": [
        "poi_df.iloc[idx,0]"
      ],
      "execution_count": null,
      "outputs": [
        {
          "output_type": "execute_result",
          "data": {
            "text/plain": [
              "31                           jln.hbr motik\n",
              "39                    raya setu cibi - bek\n",
              "44       jl. karya baru jl. letjen sutoyo,\n",
              "102                               jl.a dah\n",
              "206                   ngareanak pat - boja\n",
              "                       ...                \n",
              "49837                         al - mansyu,\n",
              "49839                                     \n",
              "49902                           jl.t merd,\n",
              "49927                                     \n",
              "49943                     poros maj - mam,\n",
              "Name: Street, Length: 1246, dtype: object"
            ]
          },
          "metadata": {
            "tags": []
          },
          "execution_count": 91
        }
      ]
    },
    {
      "cell_type": "code",
      "metadata": {
        "id": "b7boveqCcwtz",
        "colab": {
          "base_uri": "https://localhost:8080/"
        },
        "outputId": "4d923e82-fb9a-4241-b41b-1215187919ce"
      },
      "source": [
        "poi_df.to_csv('street_test.csv')\n",
        "!cp 'street_test.csv' \"/content/gdrive/My Drive/LOMBA\""
      ],
      "execution_count": null,
      "outputs": [
        {
          "output_type": "stream",
          "text": [
            "cp: 'street_test.csv' and '/content/gdrive/My Drive/LOMBA/street_test.csv' are the same file\n"
          ],
          "name": "stdout"
        }
      ]
    },
    {
      "cell_type": "code",
      "metadata": {
        "id": "aVgwU0FW_OLl"
      },
      "source": [
        "poifin = pd.read_csv(\"poi_test.csv\")\n",
        "streetfin = pd.read_csv(\"street_test.csv\")\n",
        "\n",
        "poi_proc = poifin[\"POI\"]\n",
        "street_proc = streetfin[\"Street\"]\n",
        "\n",
        "df1 = poi_proc.replace(np.nan, '', regex=True)\n",
        "df2 = street_proc.replace(np.nan, '', regex=True)"
      ],
      "execution_count": null,
      "outputs": []
    },
    {
      "cell_type": "code",
      "metadata": {
        "colab": {
          "base_uri": "https://localhost:8080/"
        },
        "id": "cVRzi3UV-RJl",
        "outputId": "1eb3128f-52e1-4436-e0b7-0c8fd9eee9bd"
      },
      "source": [
        "df2[0:10]"
      ],
      "execution_count": null,
      "outputs": [
        {
          "output_type": "execute_result",
          "data": {
            "text/plain": [
              "0       s. par\n",
              "1     angg per\n",
              "2    mand imog\n",
              "3     raya nga\n",
              "4    cut mutia\n",
              "5    perum gar\n",
              "6             \n",
              "7             \n",
              "8             \n",
              "9     raya won\n",
              "Name: Street, dtype: object"
            ]
          },
          "metadata": {
            "tags": []
          },
          "execution_count": 128
        }
      ]
    },
    {
      "cell_type": "code",
      "metadata": {
        "id": "9LBRsLrO_mh3",
        "colab": {
          "base_uri": "https://localhost:8080/"
        },
        "outputId": "75afa747-4c5a-44b9-c393-a7d1da58a755"
      },
      "source": [
        "fin_str = []\n",
        "for x in tqdm(range(len(df1))):\n",
        "  str_add = str(df1[x]) + \"/\" + str(df2[x])\n",
        "  fin_str = np.append(fin_str,str_add)"
      ],
      "execution_count": null,
      "outputs": [
        {
          "output_type": "stream",
          "text": [
            "100%|██████████| 50000/50000 [02:59<00:00, 278.85it/s]\n"
          ],
          "name": "stderr"
        }
      ]
    },
    {
      "cell_type": "code",
      "metadata": {
        "id": "3Z1-BE_hGlDl"
      },
      "source": [
        "fin_submit = pd.DataFrame({'POI/street':fin_str})\n",
        "fin_submit.insert(0, 'id', range(len(df1)))"
      ],
      "execution_count": null,
      "outputs": []
    },
    {
      "cell_type": "code",
      "metadata": {
        "id": "_NBpkn5LHMdJ",
        "colab": {
          "base_uri": "https://localhost:8080/",
          "height": 415
        },
        "outputId": "893e1ffa-1c48-4a1c-af37-bcd725b162b4"
      },
      "source": [
        "fin_submit"
      ],
      "execution_count": null,
      "outputs": [
        {
          "output_type": "execute_result",
          "data": {
            "text/html": [
              "<div>\n",
              "<style scoped>\n",
              "    .dataframe tbody tr th:only-of-type {\n",
              "        vertical-align: middle;\n",
              "    }\n",
              "\n",
              "    .dataframe tbody tr th {\n",
              "        vertical-align: top;\n",
              "    }\n",
              "\n",
              "    .dataframe thead th {\n",
              "        text-align: right;\n",
              "    }\n",
              "</style>\n",
              "<table border=\"1\" class=\"dataframe\">\n",
              "  <thead>\n",
              "    <tr style=\"text-align: right;\">\n",
              "      <th></th>\n",
              "      <th>id</th>\n",
              "      <th>POI/street</th>\n",
              "    </tr>\n",
              "  </thead>\n",
              "  <tbody>\n",
              "    <tr>\n",
              "      <th>0</th>\n",
              "      <td>0</td>\n",
              "      <td>/s. par</td>\n",
              "    </tr>\n",
              "    <tr>\n",
              "      <th>1</th>\n",
              "      <td>1</td>\n",
              "      <td>/angg per</td>\n",
              "    </tr>\n",
              "    <tr>\n",
              "      <th>2</th>\n",
              "      <td>2</td>\n",
              "      <td>asma laun/mand imog</td>\n",
              "    </tr>\n",
              "    <tr>\n",
              "      <th>3</th>\n",
              "      <td>3</td>\n",
              "      <td>ud agung/raya nga</td>\n",
              "    </tr>\n",
              "    <tr>\n",
              "      <th>4</th>\n",
              "      <td>4</td>\n",
              "      <td>/cut mutia</td>\n",
              "    </tr>\n",
              "    <tr>\n",
              "      <th>...</th>\n",
              "      <td>...</td>\n",
              "      <td>...</td>\n",
              "    </tr>\n",
              "    <tr>\n",
              "      <th>49995</th>\n",
              "      <td>49995</td>\n",
              "      <td>toko mbak farid/</td>\n",
              "    </tr>\n",
              "    <tr>\n",
              "      <th>49996</th>\n",
              "      <td>49996</td>\n",
              "      <td>tkridho kids/vete</td>\n",
              "    </tr>\n",
              "    <tr>\n",
              "      <th>49997</th>\n",
              "      <td>49997</td>\n",
              "      <td>mart dan roti bakar malabar/nasio</td>\n",
              "    </tr>\n",
              "    <tr>\n",
              "      <th>49998</th>\n",
              "      <td>49998</td>\n",
              "      <td>graha indah pamulang/jl. mujair</td>\n",
              "    </tr>\n",
              "    <tr>\n",
              "      <th>49999</th>\n",
              "      <td>49999</td>\n",
              "      <td>/adi</td>\n",
              "    </tr>\n",
              "  </tbody>\n",
              "</table>\n",
              "<p>50000 rows × 2 columns</p>\n",
              "</div>"
            ],
            "text/plain": [
              "          id                         POI/street\n",
              "0          0                            /s. par\n",
              "1          1                          /angg per\n",
              "2          2                asma laun/mand imog\n",
              "3          3                  ud agung/raya nga\n",
              "4          4                         /cut mutia\n",
              "...      ...                                ...\n",
              "49995  49995                   toko mbak farid/\n",
              "49996  49996                  tkridho kids/vete\n",
              "49997  49997  mart dan roti bakar malabar/nasio\n",
              "49998  49998    graha indah pamulang/jl. mujair\n",
              "49999  49999                               /adi\n",
              "\n",
              "[50000 rows x 2 columns]"
            ]
          },
          "metadata": {
            "tags": []
          },
          "execution_count": 131
        }
      ]
    },
    {
      "cell_type": "code",
      "metadata": {
        "id": "ypHCqQBxI8jR"
      },
      "source": [
        "fin_submit.to_csv('submit.csv', index = False)"
      ],
      "execution_count": null,
      "outputs": []
    }
  ]
}